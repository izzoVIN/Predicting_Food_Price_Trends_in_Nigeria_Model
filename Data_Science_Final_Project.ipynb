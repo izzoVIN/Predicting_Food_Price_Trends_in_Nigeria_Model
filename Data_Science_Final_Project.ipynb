{
 "cells": [
  {
   "cell_type": "markdown",
   "id": "816dd828",
   "metadata": {},
   "source": [
    "*** Identify a domain of interest : health, business, retail, education etc.\n",
    "    \n",
    "    --- My domain of interest is HEALTH.\n",
    "    "
   ]
  },
  {
   "cell_type": "markdown",
   "id": "8180d2fc",
   "metadata": {},
   "source": [
    "*** Think out ways AI(data science) can be used to solve a problem in your chosen domain of interest.\n",
    "\n",
    "    ===  In the domain of Health, AI and data science can be immensely beneficial in numerous ways. Here are several ways AI can be used to solve problems in healthcare:\n",
    "   \n",
    "   1. Disease Diagnosis and Prediction\n",
    "   \n",
    "   2. Personalized Treatment Plans\n",
    "   \n",
    "   3. Drug Discovery and Development\n",
    "   \n",
    "   4. Remote Patient Monitoring\n",
    "   \n",
    "   5. Healthcare Resource Optimization\n",
    "   \n",
    "   6. Medical Imaging Analysis\n",
    "   \n",
    "   7. Patient Engagement and Education\n",
    "   \n",
    "   8. Healthcare Fraud Detection\n",
    "   \n",
    "     The integration of AI technologies holds the potential to revolutionize various aspects of healthcare delivery, ultimately leading to better patient care and outcomes.  \n",
    "   "
   ]
  },
  {
   "cell_type": "markdown",
   "id": "4be21e2b",
   "metadata": {},
   "source": [
    "## Predicting Food Price Trends in Nigeria Model"
   ]
  },
  {
   "cell_type": "markdown",
   "id": "108f5b9c",
   "metadata": {},
   "source": [
    "* Problem Statement\n",
    " \n",
    "   The goal is to provide insights into future food prices, which can aid stakeholders such as policymakers, farmers, and consumers in making informed decisions regarding food production, distribution, and consumption.\n",
    " \n",
    " \n",
    "* Approach\n",
    "\n",
    "  * Data Preprocessing\n",
    "  * Feature Engineering\n",
    "  * Model Selection\n",
    "  * Model Training\n",
    "  * Model Evaluation\n",
    "  * Prediction\n",
    "  \n",
    "* Expected Outcome\n",
    "  \n",
    "  The developed machine learning model will provide accurate predictions of food price trends in Nigeria, enabling stakeholders to make informed decisions and take appropriate actions to address food security challenges, optimize resource allocation, and mitigate the impact of price fluctuations on consumers and producers.    "
   ]
  },
  {
   "cell_type": "markdown",
   "id": "8a57736b",
   "metadata": {},
   "source": [
    "*** Get this data and identify what you want to model and whether it would be supervised learning or unsupervised learning ."
   ]
  },
  {
   "cell_type": "code",
   "execution_count": 1,
   "id": "c7d3a73e",
   "metadata": {},
   "outputs": [],
   "source": [
    "import pandas as pd\n",
    "from sklearn.model_selection import train_test_split\n",
    "from sklearn.ensemble import RandomForestRegressor\n",
    "from sklearn.metrics import mean_absolute_error, mean_squared_error\n",
    "import numpy as np"
   ]
  },
  {
   "cell_type": "code",
   "execution_count": 2,
   "id": "b336ed37",
   "metadata": {},
   "outputs": [
    {
     "name": "stderr",
     "output_type": "stream",
     "text": [
      "C:\\Users\\HP\\AppData\\Local\\Temp\\ipykernel_772\\3464975351.py:1: DtypeWarning: Columns (4,5,12,13) have mixed types. Specify dtype option on import or set low_memory=False.\n",
      "  df = pd.read_csv('wfp_food_prices_nga.csv')\n"
     ]
    }
   ],
   "source": [
    "df = pd.read_csv('wfp_food_prices_nga.csv')"
   ]
  },
  {
   "cell_type": "markdown",
   "id": "69aa4c34",
   "metadata": {},
   "source": [
    "# Data Exploration"
   ]
  },
  {
   "cell_type": "code",
   "execution_count": 3,
   "id": "ac47605c",
   "metadata": {},
   "outputs": [
    {
     "data": {
      "text/html": [
       "<div>\n",
       "<style scoped>\n",
       "    .dataframe tbody tr th:only-of-type {\n",
       "        vertical-align: middle;\n",
       "    }\n",
       "\n",
       "    .dataframe tbody tr th {\n",
       "        vertical-align: top;\n",
       "    }\n",
       "\n",
       "    .dataframe thead th {\n",
       "        text-align: right;\n",
       "    }\n",
       "</style>\n",
       "<table border=\"1\" class=\"dataframe\">\n",
       "  <thead>\n",
       "    <tr style=\"text-align: right;\">\n",
       "      <th></th>\n",
       "      <th>date</th>\n",
       "      <th>admin1</th>\n",
       "      <th>admin2</th>\n",
       "      <th>market</th>\n",
       "      <th>latitude</th>\n",
       "      <th>longitude</th>\n",
       "      <th>category</th>\n",
       "      <th>commodity</th>\n",
       "      <th>unit</th>\n",
       "      <th>priceflag</th>\n",
       "      <th>pricetype</th>\n",
       "      <th>currency</th>\n",
       "      <th>price</th>\n",
       "      <th>usdprice</th>\n",
       "    </tr>\n",
       "  </thead>\n",
       "  <tbody>\n",
       "    <tr>\n",
       "      <th>0</th>\n",
       "      <td>#date</td>\n",
       "      <td>#adm1+name</td>\n",
       "      <td>#adm2+name</td>\n",
       "      <td>#loc+market+name</td>\n",
       "      <td>#geo+lat</td>\n",
       "      <td>#geo+lon</td>\n",
       "      <td>#item+type</td>\n",
       "      <td>#item+name</td>\n",
       "      <td>#item+unit</td>\n",
       "      <td>#item+price+flag</td>\n",
       "      <td>#item+price+type</td>\n",
       "      <td>#currency</td>\n",
       "      <td>#value</td>\n",
       "      <td>#value+usd</td>\n",
       "    </tr>\n",
       "    <tr>\n",
       "      <th>1</th>\n",
       "      <td>1/15/2002</td>\n",
       "      <td>Katsina</td>\n",
       "      <td>Jibia</td>\n",
       "      <td>Jibia (CBM)</td>\n",
       "      <td>13.08</td>\n",
       "      <td>7.24</td>\n",
       "      <td>cereals and tubers</td>\n",
       "      <td>Maize</td>\n",
       "      <td>KG</td>\n",
       "      <td>actual</td>\n",
       "      <td>Wholesale</td>\n",
       "      <td>NGN</td>\n",
       "      <td>175.92</td>\n",
       "      <td>1.5525</td>\n",
       "    </tr>\n",
       "    <tr>\n",
       "      <th>2</th>\n",
       "      <td>1/15/2002</td>\n",
       "      <td>Katsina</td>\n",
       "      <td>Jibia</td>\n",
       "      <td>Jibia (CBM)</td>\n",
       "      <td>13.08</td>\n",
       "      <td>7.24</td>\n",
       "      <td>cereals and tubers</td>\n",
       "      <td>Millet</td>\n",
       "      <td>KG</td>\n",
       "      <td>actual</td>\n",
       "      <td>Wholesale</td>\n",
       "      <td>NGN</td>\n",
       "      <td>150.18</td>\n",
       "      <td>1.3254</td>\n",
       "    </tr>\n",
       "    <tr>\n",
       "      <th>3</th>\n",
       "      <td>1/15/2002</td>\n",
       "      <td>Katsina</td>\n",
       "      <td>Jibia</td>\n",
       "      <td>Jibia (CBM)</td>\n",
       "      <td>13.08</td>\n",
       "      <td>7.24</td>\n",
       "      <td>cereals and tubers</td>\n",
       "      <td>Rice (imported)</td>\n",
       "      <td>KG</td>\n",
       "      <td>actual</td>\n",
       "      <td>Wholesale</td>\n",
       "      <td>NGN</td>\n",
       "      <td>358.7</td>\n",
       "      <td>3.1656</td>\n",
       "    </tr>\n",
       "    <tr>\n",
       "      <th>4</th>\n",
       "      <td>1/15/2002</td>\n",
       "      <td>Katsina</td>\n",
       "      <td>Jibia</td>\n",
       "      <td>Jibia (CBM)</td>\n",
       "      <td>13.08</td>\n",
       "      <td>7.24</td>\n",
       "      <td>cereals and tubers</td>\n",
       "      <td>Sorghum</td>\n",
       "      <td>KG</td>\n",
       "      <td>actual</td>\n",
       "      <td>Wholesale</td>\n",
       "      <td>NGN</td>\n",
       "      <td>155.61</td>\n",
       "      <td>1.3733</td>\n",
       "    </tr>\n",
       "  </tbody>\n",
       "</table>\n",
       "</div>"
      ],
      "text/plain": [
       "        date      admin1      admin2            market  latitude longitude  \\\n",
       "0      #date  #adm1+name  #adm2+name  #loc+market+name  #geo+lat  #geo+lon   \n",
       "1  1/15/2002     Katsina       Jibia       Jibia (CBM)     13.08      7.24   \n",
       "2  1/15/2002     Katsina       Jibia       Jibia (CBM)     13.08      7.24   \n",
       "3  1/15/2002     Katsina       Jibia       Jibia (CBM)     13.08      7.24   \n",
       "4  1/15/2002     Katsina       Jibia       Jibia (CBM)     13.08      7.24   \n",
       "\n",
       "             category        commodity        unit         priceflag  \\\n",
       "0          #item+type       #item+name  #item+unit  #item+price+flag   \n",
       "1  cereals and tubers            Maize          KG            actual   \n",
       "2  cereals and tubers           Millet          KG            actual   \n",
       "3  cereals and tubers  Rice (imported)          KG            actual   \n",
       "4  cereals and tubers          Sorghum          KG            actual   \n",
       "\n",
       "          pricetype   currency   price    usdprice  \n",
       "0  #item+price+type  #currency  #value  #value+usd  \n",
       "1         Wholesale        NGN  175.92      1.5525  \n",
       "2         Wholesale        NGN  150.18      1.3254  \n",
       "3         Wholesale        NGN   358.7      3.1656  \n",
       "4         Wholesale        NGN  155.61      1.3733  "
      ]
     },
     "execution_count": 3,
     "metadata": {},
     "output_type": "execute_result"
    }
   ],
   "source": [
    "df.head()"
   ]
  },
  {
   "cell_type": "code",
   "execution_count": 4,
   "id": "eceefd02",
   "metadata": {},
   "outputs": [
    {
     "data": {
      "text/plain": [
       "(80982, 14)"
      ]
     },
     "execution_count": 4,
     "metadata": {},
     "output_type": "execute_result"
    }
   ],
   "source": [
    "df.shape"
   ]
  },
  {
   "cell_type": "code",
   "execution_count": 5,
   "id": "ff9416fa",
   "metadata": {},
   "outputs": [
    {
     "name": "stdout",
     "output_type": "stream",
     "text": [
      "<class 'pandas.core.frame.DataFrame'>\n",
      "RangeIndex: 80982 entries, 0 to 80981\n",
      "Data columns (total 14 columns):\n",
      " #   Column     Non-Null Count  Dtype \n",
      "---  ------     --------------  ----- \n",
      " 0   date       80982 non-null  object\n",
      " 1   admin1     80982 non-null  object\n",
      " 2   admin2     80982 non-null  object\n",
      " 3   market     80982 non-null  object\n",
      " 4   latitude   80982 non-null  object\n",
      " 5   longitude  80982 non-null  object\n",
      " 6   category   80982 non-null  object\n",
      " 7   commodity  80982 non-null  object\n",
      " 8   unit       80982 non-null  object\n",
      " 9   priceflag  80982 non-null  object\n",
      " 10  pricetype  80982 non-null  object\n",
      " 11  currency   80982 non-null  object\n",
      " 12  price      80982 non-null  object\n",
      " 13  usdprice   80982 non-null  object\n",
      "dtypes: object(14)\n",
      "memory usage: 8.6+ MB\n"
     ]
    }
   ],
   "source": [
    "df.info()"
   ]
  },
  {
   "cell_type": "code",
   "execution_count": 6,
   "id": "3678bbe8",
   "metadata": {},
   "outputs": [
    {
     "data": {
      "text/html": [
       "<div>\n",
       "<style scoped>\n",
       "    .dataframe tbody tr th:only-of-type {\n",
       "        vertical-align: middle;\n",
       "    }\n",
       "\n",
       "    .dataframe tbody tr th {\n",
       "        vertical-align: top;\n",
       "    }\n",
       "\n",
       "    .dataframe thead th {\n",
       "        text-align: right;\n",
       "    }\n",
       "</style>\n",
       "<table border=\"1\" class=\"dataframe\">\n",
       "  <thead>\n",
       "    <tr style=\"text-align: right;\">\n",
       "      <th></th>\n",
       "      <th>date</th>\n",
       "      <th>admin1</th>\n",
       "      <th>admin2</th>\n",
       "      <th>market</th>\n",
       "      <th>latitude</th>\n",
       "      <th>longitude</th>\n",
       "      <th>category</th>\n",
       "      <th>commodity</th>\n",
       "      <th>unit</th>\n",
       "      <th>priceflag</th>\n",
       "      <th>pricetype</th>\n",
       "      <th>currency</th>\n",
       "      <th>price</th>\n",
       "      <th>usdprice</th>\n",
       "    </tr>\n",
       "  </thead>\n",
       "  <tbody>\n",
       "    <tr>\n",
       "      <th>count</th>\n",
       "      <td>80982</td>\n",
       "      <td>80982</td>\n",
       "      <td>80982</td>\n",
       "      <td>80982</td>\n",
       "      <td>80982</td>\n",
       "      <td>80982</td>\n",
       "      <td>80982</td>\n",
       "      <td>80982</td>\n",
       "      <td>80982</td>\n",
       "      <td>80982</td>\n",
       "      <td>80982</td>\n",
       "      <td>80982</td>\n",
       "      <td>80982.0</td>\n",
       "      <td>80982.0</td>\n",
       "    </tr>\n",
       "    <tr>\n",
       "      <th>unique</th>\n",
       "      <td>265</td>\n",
       "      <td>15</td>\n",
       "      <td>32</td>\n",
       "      <td>41</td>\n",
       "      <td>80</td>\n",
       "      <td>80</td>\n",
       "      <td>9</td>\n",
       "      <td>43</td>\n",
       "      <td>23</td>\n",
       "      <td>5</td>\n",
       "      <td>3</td>\n",
       "      <td>2</td>\n",
       "      <td>20517.0</td>\n",
       "      <td>30489.0</td>\n",
       "    </tr>\n",
       "    <tr>\n",
       "      <th>top</th>\n",
       "      <td>11/15/2021</td>\n",
       "      <td>Yobe</td>\n",
       "      <td>Maiduguri</td>\n",
       "      <td>Potiskum</td>\n",
       "      <td>11.7072401</td>\n",
       "      <td>11.08248997</td>\n",
       "      <td>cereals and tubers</td>\n",
       "      <td>Millet</td>\n",
       "      <td>100 KG</td>\n",
       "      <td>actual</td>\n",
       "      <td>Retail</td>\n",
       "      <td>NGN</td>\n",
       "      <td>0.0</td>\n",
       "      <td>0.0</td>\n",
       "    </tr>\n",
       "    <tr>\n",
       "      <th>freq</th>\n",
       "      <td>1795</td>\n",
       "      <td>26318</td>\n",
       "      <td>12690</td>\n",
       "      <td>4308</td>\n",
       "      <td>3335</td>\n",
       "      <td>3335</td>\n",
       "      <td>39537</td>\n",
       "      <td>4972</td>\n",
       "      <td>19125</td>\n",
       "      <td>51969</td>\n",
       "      <td>56111</td>\n",
       "      <td>80981</td>\n",
       "      <td>13949.0</td>\n",
       "      <td>13949.0</td>\n",
       "    </tr>\n",
       "  </tbody>\n",
       "</table>\n",
       "</div>"
      ],
      "text/plain": [
       "              date admin1     admin2    market    latitude    longitude  \\\n",
       "count        80982  80982      80982     80982       80982        80982   \n",
       "unique         265     15         32        41          80           80   \n",
       "top     11/15/2021   Yobe  Maiduguri  Potiskum  11.7072401  11.08248997   \n",
       "freq          1795  26318      12690      4308        3335         3335   \n",
       "\n",
       "                  category commodity    unit priceflag pricetype currency  \\\n",
       "count                80982     80982   80982     80982     80982    80982   \n",
       "unique                   9        43      23         5         3        2   \n",
       "top     cereals and tubers    Millet  100 KG    actual    Retail      NGN   \n",
       "freq                 39537      4972   19125     51969     56111    80981   \n",
       "\n",
       "          price  usdprice  \n",
       "count   80982.0   80982.0  \n",
       "unique  20517.0   30489.0  \n",
       "top         0.0       0.0  \n",
       "freq    13949.0   13949.0  "
      ]
     },
     "execution_count": 6,
     "metadata": {},
     "output_type": "execute_result"
    }
   ],
   "source": [
    "df.describe()"
   ]
  },
  {
   "cell_type": "code",
   "execution_count": 7,
   "id": "8943caa1",
   "metadata": {},
   "outputs": [],
   "source": [
    "# Drop unnecessary columns\n",
    "\n",
    "df = df.drop(columns=['latitude', 'longitude', 'unit', 'priceflag', 'pricetype', 'currency', 'usdprice'])"
   ]
  },
  {
   "cell_type": "code",
   "execution_count": 8,
   "id": "657c8d18",
   "metadata": {},
   "outputs": [
    {
     "data": {
      "text/html": [
       "<div>\n",
       "<style scoped>\n",
       "    .dataframe tbody tr th:only-of-type {\n",
       "        vertical-align: middle;\n",
       "    }\n",
       "\n",
       "    .dataframe tbody tr th {\n",
       "        vertical-align: top;\n",
       "    }\n",
       "\n",
       "    .dataframe thead th {\n",
       "        text-align: right;\n",
       "    }\n",
       "</style>\n",
       "<table border=\"1\" class=\"dataframe\">\n",
       "  <thead>\n",
       "    <tr style=\"text-align: right;\">\n",
       "      <th></th>\n",
       "      <th>date</th>\n",
       "      <th>admin1</th>\n",
       "      <th>admin2</th>\n",
       "      <th>market</th>\n",
       "      <th>category</th>\n",
       "      <th>commodity</th>\n",
       "      <th>price</th>\n",
       "    </tr>\n",
       "  </thead>\n",
       "  <tbody>\n",
       "    <tr>\n",
       "      <th>0</th>\n",
       "      <td>#date</td>\n",
       "      <td>#adm1+name</td>\n",
       "      <td>#adm2+name</td>\n",
       "      <td>#loc+market+name</td>\n",
       "      <td>#item+type</td>\n",
       "      <td>#item+name</td>\n",
       "      <td>#value</td>\n",
       "    </tr>\n",
       "    <tr>\n",
       "      <th>1</th>\n",
       "      <td>1/15/2002</td>\n",
       "      <td>Katsina</td>\n",
       "      <td>Jibia</td>\n",
       "      <td>Jibia (CBM)</td>\n",
       "      <td>cereals and tubers</td>\n",
       "      <td>Maize</td>\n",
       "      <td>175.92</td>\n",
       "    </tr>\n",
       "    <tr>\n",
       "      <th>2</th>\n",
       "      <td>1/15/2002</td>\n",
       "      <td>Katsina</td>\n",
       "      <td>Jibia</td>\n",
       "      <td>Jibia (CBM)</td>\n",
       "      <td>cereals and tubers</td>\n",
       "      <td>Millet</td>\n",
       "      <td>150.18</td>\n",
       "    </tr>\n",
       "    <tr>\n",
       "      <th>3</th>\n",
       "      <td>1/15/2002</td>\n",
       "      <td>Katsina</td>\n",
       "      <td>Jibia</td>\n",
       "      <td>Jibia (CBM)</td>\n",
       "      <td>cereals and tubers</td>\n",
       "      <td>Rice (imported)</td>\n",
       "      <td>358.7</td>\n",
       "    </tr>\n",
       "    <tr>\n",
       "      <th>4</th>\n",
       "      <td>1/15/2002</td>\n",
       "      <td>Katsina</td>\n",
       "      <td>Jibia</td>\n",
       "      <td>Jibia (CBM)</td>\n",
       "      <td>cereals and tubers</td>\n",
       "      <td>Sorghum</td>\n",
       "      <td>155.61</td>\n",
       "    </tr>\n",
       "  </tbody>\n",
       "</table>\n",
       "</div>"
      ],
      "text/plain": [
       "        date      admin1      admin2            market            category  \\\n",
       "0      #date  #adm1+name  #adm2+name  #loc+market+name          #item+type   \n",
       "1  1/15/2002     Katsina       Jibia       Jibia (CBM)  cereals and tubers   \n",
       "2  1/15/2002     Katsina       Jibia       Jibia (CBM)  cereals and tubers   \n",
       "3  1/15/2002     Katsina       Jibia       Jibia (CBM)  cereals and tubers   \n",
       "4  1/15/2002     Katsina       Jibia       Jibia (CBM)  cereals and tubers   \n",
       "\n",
       "         commodity   price  \n",
       "0       #item+name  #value  \n",
       "1            Maize  175.92  \n",
       "2           Millet  150.18  \n",
       "3  Rice (imported)   358.7  \n",
       "4          Sorghum  155.61  "
      ]
     },
     "execution_count": 8,
     "metadata": {},
     "output_type": "execute_result"
    }
   ],
   "source": [
    "df.head()"
   ]
  },
  {
   "cell_type": "markdown",
   "id": "592382e0",
   "metadata": {},
   "source": [
    "* The provided data is already in tabular format, which is suitable for Supervised Learning tasks where we have input features and corresponding target variables. In this case, we can use the data to predict food prices, which would be a Regression Problem."
   ]
  },
  {
   "cell_type": "code",
   "execution_count": 9,
   "id": "d7a3a769",
   "metadata": {},
   "outputs": [],
   "source": [
    "cat = df.select_dtypes(include=['category', 'object'])\n",
    "cat_columns = [i for i in cat.columns]"
   ]
  },
  {
   "cell_type": "code",
   "execution_count": 10,
   "id": "e064e6b6",
   "metadata": {},
   "outputs": [
    {
     "data": {
      "text/plain": [
       "['date', 'admin1', 'admin2', 'market', 'category', 'commodity', 'price']"
      ]
     },
     "execution_count": 10,
     "metadata": {},
     "output_type": "execute_result"
    }
   ],
   "source": [
    "cat_columns"
   ]
  },
  {
   "cell_type": "code",
   "execution_count": 11,
   "id": "aec6a106",
   "metadata": {},
   "outputs": [
    {
     "name": "stdout",
     "output_type": "stream",
     "text": [
      "-------------------------------\n",
      "-------------------------------\n",
      "date\n",
      "11/15/2021    1795\n",
      "10/15/2021    1780\n",
      "1/15/2022     1746\n",
      "3/15/2022     1745\n",
      "2/15/2022     1745\n",
      "              ... \n",
      "8/15/2004        3\n",
      "7/15/2004        3\n",
      "6/15/2004        3\n",
      "5/15/2004        3\n",
      "#date            1\n",
      "Name: count, Length: 265, dtype: int64\n",
      "-------------------------------\n",
      "-------------------------------\n",
      "admin1\n",
      "Yobe          26318\n",
      "Borno         21763\n",
      "Kaduna         4971\n",
      "Katsina        3773\n",
      "Kano           3009\n",
      "Oyo            2846\n",
      "Zamfara        2759\n",
      "Jigawa         2746\n",
      "Kebbi          2723\n",
      "Gombe          2705\n",
      "Lagos          2591\n",
      "Adamawa        2450\n",
      "Abia           1679\n",
      "Sokoto          648\n",
      "#adm1+name        1\n",
      "Name: count, dtype: int64\n",
      "-------------------------------\n",
      "-------------------------------\n",
      "admin2\n",
      "Maiduguri       12690\n",
      "Konduga          6138\n",
      "Damaturu         4390\n",
      "Potiskum         4308\n",
      "Dawakin Tofa     3009\n",
      "Ibadan North     2846\n",
      "Kaura Namoda     2759\n",
      "Gwandu           2723\n",
      "Akko             2705\n",
      "Dandume          2634\n",
      "Kosofe           2591\n",
      "Biu              2564\n",
      "Giwa             2523\n",
      "Hong             2450\n",
      "Lere             2448\n",
      "Kaugama          2385\n",
      "Nguru            2035\n",
      "Karasuwa         2028\n",
      "Geidam           2012\n",
      "Yunusari         1985\n",
      "Borsari          1972\n",
      "Jakusko          1968\n",
      "Yusufari         1954\n",
      "Gujba            1849\n",
      "Gulani           1817\n",
      "Oboma Ngwa       1679\n",
      "Gada              648\n",
      "Mai'Adua          600\n",
      "Jibia             539\n",
      "Mobbar            371\n",
      "Maigatari         361\n",
      "#adm2+name          1\n",
      "Name: count, dtype: int64\n",
      "-------------------------------\n",
      "-------------------------------\n",
      "market\n",
      "Potiskum                    4308\n",
      "Dawanau                     3009\n",
      "Maiduguri                   2848\n",
      "Ibadan                      2846\n",
      "Kaura Namoda                2759\n",
      "Gwandu                      2723\n",
      "Gombe                       2705\n",
      "Damaturu                    2655\n",
      "Dandume                     2634\n",
      "Lagos                       2591\n",
      "Biu                         2564\n",
      "Giwa                        2523\n",
      "Mubi                        2450\n",
      "Saminaka                    2448\n",
      "Gujungu                     2385\n",
      "Custom                      2159\n",
      "Monday                      2158\n",
      "Budum                       2152\n",
      "Baga Road                   2145\n",
      "Abba Gamaram                2141\n",
      "Nguru                       2035\n",
      "Bade (Gashua)               2028\n",
      "Geidam                      2012\n",
      "Yunusari                    1985\n",
      "Bursari                     1972\n",
      "Jakusko                     1968\n",
      "Yusufari                    1954\n",
      "Tashan Bama                 1875\n",
      "Gujba (Buni Yadi)           1849\n",
      "Gulani (Tettaba)            1817\n",
      "Bullunkutu                  1768\n",
      "Damaturu (Sunday Market)    1735\n",
      "Aba                         1679\n",
      "Kusawam Shanu               1498\n",
      "Illela (CBM)                 648\n",
      "Mai Adoua (CBM)              600\n",
      "Jibia (CBM)                  539\n",
      "Damassack (CBM)              371\n",
      "Mai Gatari (CBM)             361\n",
      "Bolori Stores                 84\n",
      "#loc+market+name               1\n",
      "Name: count, dtype: int64\n",
      "-------------------------------\n",
      "-------------------------------\n",
      "category\n",
      "cereals and tubers       39537\n",
      "pulses and nuts          13841\n",
      "vegetables and fruits     8794\n",
      "meat, fish and eggs       6177\n",
      "oil and fats              4928\n",
      "non-food                  3436\n",
      "miscellaneous food        2721\n",
      "milk and dairy            1547\n",
      "#item+type                   1\n",
      "Name: count, dtype: int64\n",
      "-------------------------------\n",
      "-------------------------------\n",
      "commodity\n",
      "Millet                         4972\n",
      "Rice (imported)                4537\n",
      "Rice (local)                   4193\n",
      "Yam                            4002\n",
      "Oil (palm)                     3368\n",
      "Maize (white)                  2946\n",
      "Sorghum (white)                2904\n",
      "Cowpeas (white)                2699\n",
      "Groundnuts (shelled)           2663\n",
      "Sorghum (brown)                2660\n",
      "Gari (white)                   2599\n",
      "Maize (yellow)                 2560\n",
      "Cowpeas (brown)                2526\n",
      "Cassava meal (gari, yellow)    2310\n",
      "Sorghum                        2109\n",
      "Fuel (petrol-gasoline)         1721\n",
      "Fuel (diesel)                  1715\n",
      "Groundnuts                     1561\n",
      "Oil (vegetable)                1560\n",
      "Maize flour                    1557\n",
      "Beans (red)                    1554\n",
      "Meat (beef)                    1552\n",
      "Meat (goat)                    1552\n",
      "Milk                           1547\n",
      "Beans (white)                  1547\n",
      "Onions                         1546\n",
      "Fish                           1543\n",
      "Eggs                           1530\n",
      "Watermelons                    1521\n",
      "Oranges                        1520\n",
      "Bananas                        1505\n",
      "Tomatoes                       1415\n",
      "Sugar                          1369\n",
      "Salt                           1352\n",
      "Spinach                        1287\n",
      "Cowpeas                        1267\n",
      "Bread                          1035\n",
      "Maize                           601\n",
      "Rice (milled, local)            394\n",
      "Yam (Abuja)                      85\n",
      "Wheat                            73\n",
      "Beans (niebe)                    24\n",
      "#item+name                        1\n",
      "Name: count, dtype: int64\n",
      "-------------------------------\n",
      "-------------------------------\n",
      "price\n",
      "0.0       13949\n",
      "50         2144\n",
      "200        1521\n",
      "100        1505\n",
      "400        1211\n",
      "          ...  \n",
      "92.4          1\n",
      "441.2         1\n",
      "407.14        1\n",
      "262.85        1\n",
      "204.44        1\n",
      "Name: count, Length: 20517, dtype: int64\n"
     ]
    }
   ],
   "source": [
    "for i in cat_columns:\n",
    "    print('-------------------------------')\n",
    "    print('-------------------------------')\n",
    "    print(df[i].value_counts())"
   ]
  },
  {
   "cell_type": "code",
   "execution_count": 45,
   "id": "92e45b2f",
   "metadata": {},
   "outputs": [
    {
     "data": {
      "text/plain": [
       "24648"
      ]
     },
     "execution_count": 45,
     "metadata": {},
     "output_type": "execute_result"
    }
   ],
   "source": [
    "df.duplicated().sum()"
   ]
  },
  {
   "cell_type": "code",
   "execution_count": 13,
   "id": "305b4759",
   "metadata": {},
   "outputs": [],
   "source": [
    "df.drop_duplicates(inplace=True)"
   ]
  },
  {
   "cell_type": "code",
   "execution_count": 46,
   "id": "4a999f09",
   "metadata": {},
   "outputs": [
    {
     "data": {
      "text/plain": [
       "24648"
      ]
     },
     "execution_count": 46,
     "metadata": {},
     "output_type": "execute_result"
    }
   ],
   "source": [
    "df.duplicated().sum()"
   ]
  },
  {
   "cell_type": "code",
   "execution_count": 47,
   "id": "3fd25c3b",
   "metadata": {},
   "outputs": [
    {
     "data": {
      "text/html": [
       "<div>\n",
       "<style scoped>\n",
       "    .dataframe tbody tr th:only-of-type {\n",
       "        vertical-align: middle;\n",
       "    }\n",
       "\n",
       "    .dataframe tbody tr th {\n",
       "        vertical-align: top;\n",
       "    }\n",
       "\n",
       "    .dataframe thead th {\n",
       "        text-align: right;\n",
       "    }\n",
       "</style>\n",
       "<table border=\"1\" class=\"dataframe\">\n",
       "  <thead>\n",
       "    <tr style=\"text-align: right;\">\n",
       "      <th></th>\n",
       "      <th>date</th>\n",
       "      <th>price</th>\n",
       "      <th>commodity_#item+name</th>\n",
       "      <th>commodity_Bananas</th>\n",
       "      <th>commodity_Beans (niebe)</th>\n",
       "      <th>commodity_Beans (red)</th>\n",
       "      <th>commodity_Beans (white)</th>\n",
       "      <th>commodity_Bread</th>\n",
       "      <th>commodity_Cassava meal (gari, yellow)</th>\n",
       "      <th>commodity_Cowpeas</th>\n",
       "      <th>...</th>\n",
       "      <th>commodity_Sorghum</th>\n",
       "      <th>commodity_Sorghum (brown)</th>\n",
       "      <th>commodity_Sorghum (white)</th>\n",
       "      <th>commodity_Spinach</th>\n",
       "      <th>commodity_Sugar</th>\n",
       "      <th>commodity_Tomatoes</th>\n",
       "      <th>commodity_Watermelons</th>\n",
       "      <th>commodity_Wheat</th>\n",
       "      <th>commodity_Yam</th>\n",
       "      <th>commodity_Yam (Abuja)</th>\n",
       "    </tr>\n",
       "  </thead>\n",
       "  <tbody>\n",
       "    <tr>\n",
       "      <th>1</th>\n",
       "      <td>2002-01-15</td>\n",
       "      <td>175.92</td>\n",
       "      <td>False</td>\n",
       "      <td>False</td>\n",
       "      <td>False</td>\n",
       "      <td>False</td>\n",
       "      <td>False</td>\n",
       "      <td>False</td>\n",
       "      <td>False</td>\n",
       "      <td>False</td>\n",
       "      <td>...</td>\n",
       "      <td>False</td>\n",
       "      <td>False</td>\n",
       "      <td>False</td>\n",
       "      <td>False</td>\n",
       "      <td>False</td>\n",
       "      <td>False</td>\n",
       "      <td>False</td>\n",
       "      <td>False</td>\n",
       "      <td>False</td>\n",
       "      <td>False</td>\n",
       "    </tr>\n",
       "    <tr>\n",
       "      <th>2</th>\n",
       "      <td>2002-01-15</td>\n",
       "      <td>150.18</td>\n",
       "      <td>False</td>\n",
       "      <td>False</td>\n",
       "      <td>False</td>\n",
       "      <td>False</td>\n",
       "      <td>False</td>\n",
       "      <td>False</td>\n",
       "      <td>False</td>\n",
       "      <td>False</td>\n",
       "      <td>...</td>\n",
       "      <td>False</td>\n",
       "      <td>False</td>\n",
       "      <td>False</td>\n",
       "      <td>False</td>\n",
       "      <td>False</td>\n",
       "      <td>False</td>\n",
       "      <td>False</td>\n",
       "      <td>False</td>\n",
       "      <td>False</td>\n",
       "      <td>False</td>\n",
       "    </tr>\n",
       "    <tr>\n",
       "      <th>3</th>\n",
       "      <td>2002-01-15</td>\n",
       "      <td>358.70</td>\n",
       "      <td>False</td>\n",
       "      <td>False</td>\n",
       "      <td>False</td>\n",
       "      <td>False</td>\n",
       "      <td>False</td>\n",
       "      <td>False</td>\n",
       "      <td>False</td>\n",
       "      <td>False</td>\n",
       "      <td>...</td>\n",
       "      <td>False</td>\n",
       "      <td>False</td>\n",
       "      <td>False</td>\n",
       "      <td>False</td>\n",
       "      <td>False</td>\n",
       "      <td>False</td>\n",
       "      <td>False</td>\n",
       "      <td>False</td>\n",
       "      <td>False</td>\n",
       "      <td>False</td>\n",
       "    </tr>\n",
       "    <tr>\n",
       "      <th>4</th>\n",
       "      <td>2002-01-15</td>\n",
       "      <td>155.61</td>\n",
       "      <td>False</td>\n",
       "      <td>False</td>\n",
       "      <td>False</td>\n",
       "      <td>False</td>\n",
       "      <td>False</td>\n",
       "      <td>False</td>\n",
       "      <td>False</td>\n",
       "      <td>False</td>\n",
       "      <td>...</td>\n",
       "      <td>True</td>\n",
       "      <td>False</td>\n",
       "      <td>False</td>\n",
       "      <td>False</td>\n",
       "      <td>False</td>\n",
       "      <td>False</td>\n",
       "      <td>False</td>\n",
       "      <td>False</td>\n",
       "      <td>False</td>\n",
       "      <td>False</td>\n",
       "    </tr>\n",
       "    <tr>\n",
       "      <th>5</th>\n",
       "      <td>2002-01-15</td>\n",
       "      <td>196.87</td>\n",
       "      <td>False</td>\n",
       "      <td>False</td>\n",
       "      <td>True</td>\n",
       "      <td>False</td>\n",
       "      <td>False</td>\n",
       "      <td>False</td>\n",
       "      <td>False</td>\n",
       "      <td>False</td>\n",
       "      <td>...</td>\n",
       "      <td>False</td>\n",
       "      <td>False</td>\n",
       "      <td>False</td>\n",
       "      <td>False</td>\n",
       "      <td>False</td>\n",
       "      <td>False</td>\n",
       "      <td>False</td>\n",
       "      <td>False</td>\n",
       "      <td>False</td>\n",
       "      <td>False</td>\n",
       "    </tr>\n",
       "  </tbody>\n",
       "</table>\n",
       "<p>5 rows × 45 columns</p>\n",
       "</div>"
      ],
      "text/plain": [
       "        date   price  commodity_#item+name  commodity_Bananas  \\\n",
       "1 2002-01-15  175.92                 False              False   \n",
       "2 2002-01-15  150.18                 False              False   \n",
       "3 2002-01-15  358.70                 False              False   \n",
       "4 2002-01-15  155.61                 False              False   \n",
       "5 2002-01-15  196.87                 False              False   \n",
       "\n",
       "   commodity_Beans (niebe)  commodity_Beans (red)  commodity_Beans (white)  \\\n",
       "1                    False                  False                    False   \n",
       "2                    False                  False                    False   \n",
       "3                    False                  False                    False   \n",
       "4                    False                  False                    False   \n",
       "5                     True                  False                    False   \n",
       "\n",
       "   commodity_Bread  commodity_Cassava meal (gari, yellow)  commodity_Cowpeas  \\\n",
       "1            False                                  False              False   \n",
       "2            False                                  False              False   \n",
       "3            False                                  False              False   \n",
       "4            False                                  False              False   \n",
       "5            False                                  False              False   \n",
       "\n",
       "   ...  commodity_Sorghum  commodity_Sorghum (brown)  \\\n",
       "1  ...              False                      False   \n",
       "2  ...              False                      False   \n",
       "3  ...              False                      False   \n",
       "4  ...               True                      False   \n",
       "5  ...              False                      False   \n",
       "\n",
       "   commodity_Sorghum (white)  commodity_Spinach  commodity_Sugar  \\\n",
       "1                      False              False            False   \n",
       "2                      False              False            False   \n",
       "3                      False              False            False   \n",
       "4                      False              False            False   \n",
       "5                      False              False            False   \n",
       "\n",
       "   commodity_Tomatoes  commodity_Watermelons  commodity_Wheat  commodity_Yam  \\\n",
       "1               False                  False            False          False   \n",
       "2               False                  False            False          False   \n",
       "3               False                  False            False          False   \n",
       "4               False                  False            False          False   \n",
       "5               False                  False            False          False   \n",
       "\n",
       "   commodity_Yam (Abuja)  \n",
       "1                  False  \n",
       "2                  False  \n",
       "3                  False  \n",
       "4                  False  \n",
       "5                  False  \n",
       "\n",
       "[5 rows x 45 columns]"
      ]
     },
     "execution_count": 47,
     "metadata": {},
     "output_type": "execute_result"
    }
   ],
   "source": [
    "df.head()"
   ]
  },
  {
   "cell_type": "code",
   "execution_count": 16,
   "id": "ff12921c",
   "metadata": {},
   "outputs": [
    {
     "data": {
      "text/plain": [
       "date         0\n",
       "admin1       0\n",
       "admin2       0\n",
       "market       0\n",
       "category     0\n",
       "commodity    0\n",
       "price        0\n",
       "dtype: int64"
      ]
     },
     "execution_count": 16,
     "metadata": {},
     "output_type": "execute_result"
    }
   ],
   "source": [
    "df.isnull().sum()"
   ]
  },
  {
   "cell_type": "code",
   "execution_count": 50,
   "id": "414d2a3b",
   "metadata": {},
   "outputs": [],
   "source": [
    "df.to_csv('cleaned_wfp_food_prices_nga.csv')"
   ]
  },
  {
   "cell_type": "code",
   "execution_count": 51,
   "id": "262a52f1",
   "metadata": {},
   "outputs": [
    {
     "data": {
      "text/plain": [
       "['date', 'admin1', 'admin2', 'market', 'category', 'commodity', 'price']"
      ]
     },
     "execution_count": 51,
     "metadata": {},
     "output_type": "execute_result"
    }
   ],
   "source": [
    "cat_columns"
   ]
  },
  {
   "cell_type": "code",
   "execution_count": 49,
   "id": "9f068aac",
   "metadata": {},
   "outputs": [
    {
     "ename": "KeyError",
     "evalue": "\"['admin1', 'admin2', 'market', 'category'] not found in axis\"",
     "output_type": "error",
     "traceback": [
      "\u001b[1;31m---------------------------------------------------------------------------\u001b[0m",
      "\u001b[1;31mKeyError\u001b[0m                                  Traceback (most recent call last)",
      "Cell \u001b[1;32mIn[49], line 3\u001b[0m\n\u001b[0;32m      1\u001b[0m \u001b[38;5;66;03m# Drop any unnecessary columns\u001b[39;00m\n\u001b[1;32m----> 3\u001b[0m df \u001b[38;5;241m=\u001b[39m df\u001b[38;5;241m.\u001b[39mdrop(columns\u001b[38;5;241m=\u001b[39m[\u001b[38;5;124m\"\u001b[39m\u001b[38;5;124madmin1\u001b[39m\u001b[38;5;124m\"\u001b[39m, \u001b[38;5;124m\"\u001b[39m\u001b[38;5;124madmin2\u001b[39m\u001b[38;5;124m\"\u001b[39m, \u001b[38;5;124m\"\u001b[39m\u001b[38;5;124mmarket\u001b[39m\u001b[38;5;124m\"\u001b[39m, \u001b[38;5;124m\"\u001b[39m\u001b[38;5;124mcategory\u001b[39m\u001b[38;5;124m\"\u001b[39m])\n",
      "File \u001b[1;32m~\\anaconda3\\Lib\\site-packages\\pandas\\core\\frame.py:5258\u001b[0m, in \u001b[0;36mDataFrame.drop\u001b[1;34m(self, labels, axis, index, columns, level, inplace, errors)\u001b[0m\n\u001b[0;32m   5110\u001b[0m \u001b[38;5;28;01mdef\u001b[39;00m \u001b[38;5;21mdrop\u001b[39m(\n\u001b[0;32m   5111\u001b[0m     \u001b[38;5;28mself\u001b[39m,\n\u001b[0;32m   5112\u001b[0m     labels: IndexLabel \u001b[38;5;241m=\u001b[39m \u001b[38;5;28;01mNone\u001b[39;00m,\n\u001b[1;32m   (...)\u001b[0m\n\u001b[0;32m   5119\u001b[0m     errors: IgnoreRaise \u001b[38;5;241m=\u001b[39m \u001b[38;5;124m\"\u001b[39m\u001b[38;5;124mraise\u001b[39m\u001b[38;5;124m\"\u001b[39m,\n\u001b[0;32m   5120\u001b[0m ) \u001b[38;5;241m-\u001b[39m\u001b[38;5;241m>\u001b[39m DataFrame \u001b[38;5;241m|\u001b[39m \u001b[38;5;28;01mNone\u001b[39;00m:\n\u001b[0;32m   5121\u001b[0m \u001b[38;5;250m    \u001b[39m\u001b[38;5;124;03m\"\"\"\u001b[39;00m\n\u001b[0;32m   5122\u001b[0m \u001b[38;5;124;03m    Drop specified labels from rows or columns.\u001b[39;00m\n\u001b[0;32m   5123\u001b[0m \n\u001b[1;32m   (...)\u001b[0m\n\u001b[0;32m   5256\u001b[0m \u001b[38;5;124;03m            weight  1.0     0.8\u001b[39;00m\n\u001b[0;32m   5257\u001b[0m \u001b[38;5;124;03m    \"\"\"\u001b[39;00m\n\u001b[1;32m-> 5258\u001b[0m     \u001b[38;5;28;01mreturn\u001b[39;00m \u001b[38;5;28msuper\u001b[39m()\u001b[38;5;241m.\u001b[39mdrop(\n\u001b[0;32m   5259\u001b[0m         labels\u001b[38;5;241m=\u001b[39mlabels,\n\u001b[0;32m   5260\u001b[0m         axis\u001b[38;5;241m=\u001b[39maxis,\n\u001b[0;32m   5261\u001b[0m         index\u001b[38;5;241m=\u001b[39mindex,\n\u001b[0;32m   5262\u001b[0m         columns\u001b[38;5;241m=\u001b[39mcolumns,\n\u001b[0;32m   5263\u001b[0m         level\u001b[38;5;241m=\u001b[39mlevel,\n\u001b[0;32m   5264\u001b[0m         inplace\u001b[38;5;241m=\u001b[39minplace,\n\u001b[0;32m   5265\u001b[0m         errors\u001b[38;5;241m=\u001b[39merrors,\n\u001b[0;32m   5266\u001b[0m     )\n",
      "File \u001b[1;32m~\\anaconda3\\Lib\\site-packages\\pandas\\core\\generic.py:4549\u001b[0m, in \u001b[0;36mNDFrame.drop\u001b[1;34m(self, labels, axis, index, columns, level, inplace, errors)\u001b[0m\n\u001b[0;32m   4547\u001b[0m \u001b[38;5;28;01mfor\u001b[39;00m axis, labels \u001b[38;5;129;01min\u001b[39;00m axes\u001b[38;5;241m.\u001b[39mitems():\n\u001b[0;32m   4548\u001b[0m     \u001b[38;5;28;01mif\u001b[39;00m labels \u001b[38;5;129;01mis\u001b[39;00m \u001b[38;5;129;01mnot\u001b[39;00m \u001b[38;5;28;01mNone\u001b[39;00m:\n\u001b[1;32m-> 4549\u001b[0m         obj \u001b[38;5;241m=\u001b[39m obj\u001b[38;5;241m.\u001b[39m_drop_axis(labels, axis, level\u001b[38;5;241m=\u001b[39mlevel, errors\u001b[38;5;241m=\u001b[39merrors)\n\u001b[0;32m   4551\u001b[0m \u001b[38;5;28;01mif\u001b[39;00m inplace:\n\u001b[0;32m   4552\u001b[0m     \u001b[38;5;28mself\u001b[39m\u001b[38;5;241m.\u001b[39m_update_inplace(obj)\n",
      "File \u001b[1;32m~\\anaconda3\\Lib\\site-packages\\pandas\\core\\generic.py:4591\u001b[0m, in \u001b[0;36mNDFrame._drop_axis\u001b[1;34m(self, labels, axis, level, errors, only_slice)\u001b[0m\n\u001b[0;32m   4589\u001b[0m         new_axis \u001b[38;5;241m=\u001b[39m axis\u001b[38;5;241m.\u001b[39mdrop(labels, level\u001b[38;5;241m=\u001b[39mlevel, errors\u001b[38;5;241m=\u001b[39merrors)\n\u001b[0;32m   4590\u001b[0m     \u001b[38;5;28;01melse\u001b[39;00m:\n\u001b[1;32m-> 4591\u001b[0m         new_axis \u001b[38;5;241m=\u001b[39m axis\u001b[38;5;241m.\u001b[39mdrop(labels, errors\u001b[38;5;241m=\u001b[39merrors)\n\u001b[0;32m   4592\u001b[0m     indexer \u001b[38;5;241m=\u001b[39m axis\u001b[38;5;241m.\u001b[39mget_indexer(new_axis)\n\u001b[0;32m   4594\u001b[0m \u001b[38;5;66;03m# Case for non-unique axis\u001b[39;00m\n\u001b[0;32m   4595\u001b[0m \u001b[38;5;28;01melse\u001b[39;00m:\n",
      "File \u001b[1;32m~\\anaconda3\\Lib\\site-packages\\pandas\\core\\indexes\\base.py:6699\u001b[0m, in \u001b[0;36mIndex.drop\u001b[1;34m(self, labels, errors)\u001b[0m\n\u001b[0;32m   6697\u001b[0m \u001b[38;5;28;01mif\u001b[39;00m mask\u001b[38;5;241m.\u001b[39many():\n\u001b[0;32m   6698\u001b[0m     \u001b[38;5;28;01mif\u001b[39;00m errors \u001b[38;5;241m!=\u001b[39m \u001b[38;5;124m\"\u001b[39m\u001b[38;5;124mignore\u001b[39m\u001b[38;5;124m\"\u001b[39m:\n\u001b[1;32m-> 6699\u001b[0m         \u001b[38;5;28;01mraise\u001b[39;00m \u001b[38;5;167;01mKeyError\u001b[39;00m(\u001b[38;5;124mf\u001b[39m\u001b[38;5;124m\"\u001b[39m\u001b[38;5;132;01m{\u001b[39;00m\u001b[38;5;28mlist\u001b[39m(labels[mask])\u001b[38;5;132;01m}\u001b[39;00m\u001b[38;5;124m not found in axis\u001b[39m\u001b[38;5;124m\"\u001b[39m)\n\u001b[0;32m   6700\u001b[0m     indexer \u001b[38;5;241m=\u001b[39m indexer[\u001b[38;5;241m~\u001b[39mmask]\n\u001b[0;32m   6701\u001b[0m \u001b[38;5;28;01mreturn\u001b[39;00m \u001b[38;5;28mself\u001b[39m\u001b[38;5;241m.\u001b[39mdelete(indexer)\n",
      "\u001b[1;31mKeyError\u001b[0m: \"['admin1', 'admin2', 'market', 'category'] not found in axis\""
     ]
    }
   ],
   "source": [
    "# Drop any unnecessary columns\n",
    "\n",
    "df = df.drop(columns=[\"admin1\", \"admin2\", \"market\", \"category\"])"
   ]
  },
  {
   "cell_type": "code",
   "execution_count": 52,
   "id": "98a48858",
   "metadata": {},
   "outputs": [
    {
     "data": {
      "text/html": [
       "<div>\n",
       "<style scoped>\n",
       "    .dataframe tbody tr th:only-of-type {\n",
       "        vertical-align: middle;\n",
       "    }\n",
       "\n",
       "    .dataframe tbody tr th {\n",
       "        vertical-align: top;\n",
       "    }\n",
       "\n",
       "    .dataframe thead th {\n",
       "        text-align: right;\n",
       "    }\n",
       "</style>\n",
       "<table border=\"1\" class=\"dataframe\">\n",
       "  <thead>\n",
       "    <tr style=\"text-align: right;\">\n",
       "      <th></th>\n",
       "      <th>date</th>\n",
       "      <th>price</th>\n",
       "      <th>commodity_#item+name</th>\n",
       "      <th>commodity_Bananas</th>\n",
       "      <th>commodity_Beans (niebe)</th>\n",
       "      <th>commodity_Beans (red)</th>\n",
       "      <th>commodity_Beans (white)</th>\n",
       "      <th>commodity_Bread</th>\n",
       "      <th>commodity_Cassava meal (gari, yellow)</th>\n",
       "      <th>commodity_Cowpeas</th>\n",
       "      <th>...</th>\n",
       "      <th>commodity_Sorghum</th>\n",
       "      <th>commodity_Sorghum (brown)</th>\n",
       "      <th>commodity_Sorghum (white)</th>\n",
       "      <th>commodity_Spinach</th>\n",
       "      <th>commodity_Sugar</th>\n",
       "      <th>commodity_Tomatoes</th>\n",
       "      <th>commodity_Watermelons</th>\n",
       "      <th>commodity_Wheat</th>\n",
       "      <th>commodity_Yam</th>\n",
       "      <th>commodity_Yam (Abuja)</th>\n",
       "    </tr>\n",
       "  </thead>\n",
       "  <tbody>\n",
       "    <tr>\n",
       "      <th>1</th>\n",
       "      <td>2002-01-15</td>\n",
       "      <td>175.92</td>\n",
       "      <td>False</td>\n",
       "      <td>False</td>\n",
       "      <td>False</td>\n",
       "      <td>False</td>\n",
       "      <td>False</td>\n",
       "      <td>False</td>\n",
       "      <td>False</td>\n",
       "      <td>False</td>\n",
       "      <td>...</td>\n",
       "      <td>False</td>\n",
       "      <td>False</td>\n",
       "      <td>False</td>\n",
       "      <td>False</td>\n",
       "      <td>False</td>\n",
       "      <td>False</td>\n",
       "      <td>False</td>\n",
       "      <td>False</td>\n",
       "      <td>False</td>\n",
       "      <td>False</td>\n",
       "    </tr>\n",
       "    <tr>\n",
       "      <th>2</th>\n",
       "      <td>2002-01-15</td>\n",
       "      <td>150.18</td>\n",
       "      <td>False</td>\n",
       "      <td>False</td>\n",
       "      <td>False</td>\n",
       "      <td>False</td>\n",
       "      <td>False</td>\n",
       "      <td>False</td>\n",
       "      <td>False</td>\n",
       "      <td>False</td>\n",
       "      <td>...</td>\n",
       "      <td>False</td>\n",
       "      <td>False</td>\n",
       "      <td>False</td>\n",
       "      <td>False</td>\n",
       "      <td>False</td>\n",
       "      <td>False</td>\n",
       "      <td>False</td>\n",
       "      <td>False</td>\n",
       "      <td>False</td>\n",
       "      <td>False</td>\n",
       "    </tr>\n",
       "    <tr>\n",
       "      <th>3</th>\n",
       "      <td>2002-01-15</td>\n",
       "      <td>358.70</td>\n",
       "      <td>False</td>\n",
       "      <td>False</td>\n",
       "      <td>False</td>\n",
       "      <td>False</td>\n",
       "      <td>False</td>\n",
       "      <td>False</td>\n",
       "      <td>False</td>\n",
       "      <td>False</td>\n",
       "      <td>...</td>\n",
       "      <td>False</td>\n",
       "      <td>False</td>\n",
       "      <td>False</td>\n",
       "      <td>False</td>\n",
       "      <td>False</td>\n",
       "      <td>False</td>\n",
       "      <td>False</td>\n",
       "      <td>False</td>\n",
       "      <td>False</td>\n",
       "      <td>False</td>\n",
       "    </tr>\n",
       "    <tr>\n",
       "      <th>4</th>\n",
       "      <td>2002-01-15</td>\n",
       "      <td>155.61</td>\n",
       "      <td>False</td>\n",
       "      <td>False</td>\n",
       "      <td>False</td>\n",
       "      <td>False</td>\n",
       "      <td>False</td>\n",
       "      <td>False</td>\n",
       "      <td>False</td>\n",
       "      <td>False</td>\n",
       "      <td>...</td>\n",
       "      <td>True</td>\n",
       "      <td>False</td>\n",
       "      <td>False</td>\n",
       "      <td>False</td>\n",
       "      <td>False</td>\n",
       "      <td>False</td>\n",
       "      <td>False</td>\n",
       "      <td>False</td>\n",
       "      <td>False</td>\n",
       "      <td>False</td>\n",
       "    </tr>\n",
       "    <tr>\n",
       "      <th>5</th>\n",
       "      <td>2002-01-15</td>\n",
       "      <td>196.87</td>\n",
       "      <td>False</td>\n",
       "      <td>False</td>\n",
       "      <td>True</td>\n",
       "      <td>False</td>\n",
       "      <td>False</td>\n",
       "      <td>False</td>\n",
       "      <td>False</td>\n",
       "      <td>False</td>\n",
       "      <td>...</td>\n",
       "      <td>False</td>\n",
       "      <td>False</td>\n",
       "      <td>False</td>\n",
       "      <td>False</td>\n",
       "      <td>False</td>\n",
       "      <td>False</td>\n",
       "      <td>False</td>\n",
       "      <td>False</td>\n",
       "      <td>False</td>\n",
       "      <td>False</td>\n",
       "    </tr>\n",
       "  </tbody>\n",
       "</table>\n",
       "<p>5 rows × 45 columns</p>\n",
       "</div>"
      ],
      "text/plain": [
       "        date   price  commodity_#item+name  commodity_Bananas  \\\n",
       "1 2002-01-15  175.92                 False              False   \n",
       "2 2002-01-15  150.18                 False              False   \n",
       "3 2002-01-15  358.70                 False              False   \n",
       "4 2002-01-15  155.61                 False              False   \n",
       "5 2002-01-15  196.87                 False              False   \n",
       "\n",
       "   commodity_Beans (niebe)  commodity_Beans (red)  commodity_Beans (white)  \\\n",
       "1                    False                  False                    False   \n",
       "2                    False                  False                    False   \n",
       "3                    False                  False                    False   \n",
       "4                    False                  False                    False   \n",
       "5                     True                  False                    False   \n",
       "\n",
       "   commodity_Bread  commodity_Cassava meal (gari, yellow)  commodity_Cowpeas  \\\n",
       "1            False                                  False              False   \n",
       "2            False                                  False              False   \n",
       "3            False                                  False              False   \n",
       "4            False                                  False              False   \n",
       "5            False                                  False              False   \n",
       "\n",
       "   ...  commodity_Sorghum  commodity_Sorghum (brown)  \\\n",
       "1  ...              False                      False   \n",
       "2  ...              False                      False   \n",
       "3  ...              False                      False   \n",
       "4  ...               True                      False   \n",
       "5  ...              False                      False   \n",
       "\n",
       "   commodity_Sorghum (white)  commodity_Spinach  commodity_Sugar  \\\n",
       "1                      False              False            False   \n",
       "2                      False              False            False   \n",
       "3                      False              False            False   \n",
       "4                      False              False            False   \n",
       "5                      False              False            False   \n",
       "\n",
       "   commodity_Tomatoes  commodity_Watermelons  commodity_Wheat  commodity_Yam  \\\n",
       "1               False                  False            False          False   \n",
       "2               False                  False            False          False   \n",
       "3               False                  False            False          False   \n",
       "4               False                  False            False          False   \n",
       "5               False                  False            False          False   \n",
       "\n",
       "   commodity_Yam (Abuja)  \n",
       "1                  False  \n",
       "2                  False  \n",
       "3                  False  \n",
       "4                  False  \n",
       "5                  False  \n",
       "\n",
       "[5 rows x 45 columns]"
      ]
     },
     "execution_count": 52,
     "metadata": {},
     "output_type": "execute_result"
    }
   ],
   "source": [
    "df.head()"
   ]
  },
  {
   "cell_type": "code",
   "execution_count": 53,
   "id": "fc4def2c",
   "metadata": {},
   "outputs": [
    {
     "ename": "KeyError",
     "evalue": "\"None of [Index(['commodity'], dtype='object')] are in the [columns]\"",
     "output_type": "error",
     "traceback": [
      "\u001b[1;31m---------------------------------------------------------------------------\u001b[0m",
      "\u001b[1;31mKeyError\u001b[0m                                  Traceback (most recent call last)",
      "Cell \u001b[1;32mIn[53], line 3\u001b[0m\n\u001b[0;32m      1\u001b[0m \u001b[38;5;66;03m# One-hot encode the commodity column\u001b[39;00m\n\u001b[1;32m----> 3\u001b[0m df \u001b[38;5;241m=\u001b[39m pd\u001b[38;5;241m.\u001b[39mget_dummies(df, columns\u001b[38;5;241m=\u001b[39m[\u001b[38;5;124m'\u001b[39m\u001b[38;5;124mcommodity\u001b[39m\u001b[38;5;124m'\u001b[39m])\n",
      "File \u001b[1;32m~\\anaconda3\\Lib\\site-packages\\pandas\\core\\reshape\\encoding.py:158\u001b[0m, in \u001b[0;36mget_dummies\u001b[1;34m(data, prefix, prefix_sep, dummy_na, columns, sparse, drop_first, dtype)\u001b[0m\n\u001b[0;32m    156\u001b[0m     \u001b[38;5;28;01mraise\u001b[39;00m \u001b[38;5;167;01mTypeError\u001b[39;00m(\u001b[38;5;124m\"\u001b[39m\u001b[38;5;124mInput must be a list-like for parameter `columns`\u001b[39m\u001b[38;5;124m\"\u001b[39m)\n\u001b[0;32m    157\u001b[0m \u001b[38;5;28;01melse\u001b[39;00m:\n\u001b[1;32m--> 158\u001b[0m     data_to_encode \u001b[38;5;241m=\u001b[39m data[columns]\n\u001b[0;32m    160\u001b[0m \u001b[38;5;66;03m# validate prefixes and separator to avoid silently dropping cols\u001b[39;00m\n\u001b[0;32m    161\u001b[0m \u001b[38;5;28;01mdef\u001b[39;00m \u001b[38;5;21mcheck_len\u001b[39m(item, name):\n",
      "File \u001b[1;32m~\\anaconda3\\Lib\\site-packages\\pandas\\core\\frame.py:3767\u001b[0m, in \u001b[0;36mDataFrame.__getitem__\u001b[1;34m(self, key)\u001b[0m\n\u001b[0;32m   3765\u001b[0m     \u001b[38;5;28;01mif\u001b[39;00m is_iterator(key):\n\u001b[0;32m   3766\u001b[0m         key \u001b[38;5;241m=\u001b[39m \u001b[38;5;28mlist\u001b[39m(key)\n\u001b[1;32m-> 3767\u001b[0m     indexer \u001b[38;5;241m=\u001b[39m \u001b[38;5;28mself\u001b[39m\u001b[38;5;241m.\u001b[39mcolumns\u001b[38;5;241m.\u001b[39m_get_indexer_strict(key, \u001b[38;5;124m\"\u001b[39m\u001b[38;5;124mcolumns\u001b[39m\u001b[38;5;124m\"\u001b[39m)[\u001b[38;5;241m1\u001b[39m]\n\u001b[0;32m   3769\u001b[0m \u001b[38;5;66;03m# take() does not accept boolean indexers\u001b[39;00m\n\u001b[0;32m   3770\u001b[0m \u001b[38;5;28;01mif\u001b[39;00m \u001b[38;5;28mgetattr\u001b[39m(indexer, \u001b[38;5;124m\"\u001b[39m\u001b[38;5;124mdtype\u001b[39m\u001b[38;5;124m\"\u001b[39m, \u001b[38;5;28;01mNone\u001b[39;00m) \u001b[38;5;241m==\u001b[39m \u001b[38;5;28mbool\u001b[39m:\n",
      "File \u001b[1;32m~\\anaconda3\\Lib\\site-packages\\pandas\\core\\indexes\\base.py:5877\u001b[0m, in \u001b[0;36mIndex._get_indexer_strict\u001b[1;34m(self, key, axis_name)\u001b[0m\n\u001b[0;32m   5874\u001b[0m \u001b[38;5;28;01melse\u001b[39;00m:\n\u001b[0;32m   5875\u001b[0m     keyarr, indexer, new_indexer \u001b[38;5;241m=\u001b[39m \u001b[38;5;28mself\u001b[39m\u001b[38;5;241m.\u001b[39m_reindex_non_unique(keyarr)\n\u001b[1;32m-> 5877\u001b[0m \u001b[38;5;28mself\u001b[39m\u001b[38;5;241m.\u001b[39m_raise_if_missing(keyarr, indexer, axis_name)\n\u001b[0;32m   5879\u001b[0m keyarr \u001b[38;5;241m=\u001b[39m \u001b[38;5;28mself\u001b[39m\u001b[38;5;241m.\u001b[39mtake(indexer)\n\u001b[0;32m   5880\u001b[0m \u001b[38;5;28;01mif\u001b[39;00m \u001b[38;5;28misinstance\u001b[39m(key, Index):\n\u001b[0;32m   5881\u001b[0m     \u001b[38;5;66;03m# GH 42790 - Preserve name from an Index\u001b[39;00m\n",
      "File \u001b[1;32m~\\anaconda3\\Lib\\site-packages\\pandas\\core\\indexes\\base.py:5938\u001b[0m, in \u001b[0;36mIndex._raise_if_missing\u001b[1;34m(self, key, indexer, axis_name)\u001b[0m\n\u001b[0;32m   5936\u001b[0m     \u001b[38;5;28;01mif\u001b[39;00m use_interval_msg:\n\u001b[0;32m   5937\u001b[0m         key \u001b[38;5;241m=\u001b[39m \u001b[38;5;28mlist\u001b[39m(key)\n\u001b[1;32m-> 5938\u001b[0m     \u001b[38;5;28;01mraise\u001b[39;00m \u001b[38;5;167;01mKeyError\u001b[39;00m(\u001b[38;5;124mf\u001b[39m\u001b[38;5;124m\"\u001b[39m\u001b[38;5;124mNone of [\u001b[39m\u001b[38;5;132;01m{\u001b[39;00mkey\u001b[38;5;132;01m}\u001b[39;00m\u001b[38;5;124m] are in the [\u001b[39m\u001b[38;5;132;01m{\u001b[39;00maxis_name\u001b[38;5;132;01m}\u001b[39;00m\u001b[38;5;124m]\u001b[39m\u001b[38;5;124m\"\u001b[39m)\n\u001b[0;32m   5940\u001b[0m not_found \u001b[38;5;241m=\u001b[39m \u001b[38;5;28mlist\u001b[39m(ensure_index(key)[missing_mask\u001b[38;5;241m.\u001b[39mnonzero()[\u001b[38;5;241m0\u001b[39m]]\u001b[38;5;241m.\u001b[39munique())\n\u001b[0;32m   5941\u001b[0m \u001b[38;5;28;01mraise\u001b[39;00m \u001b[38;5;167;01mKeyError\u001b[39;00m(\u001b[38;5;124mf\u001b[39m\u001b[38;5;124m\"\u001b[39m\u001b[38;5;132;01m{\u001b[39;00mnot_found\u001b[38;5;132;01m}\u001b[39;00m\u001b[38;5;124m not in index\u001b[39m\u001b[38;5;124m\"\u001b[39m)\n",
      "\u001b[1;31mKeyError\u001b[0m: \"None of [Index(['commodity'], dtype='object')] are in the [columns]\""
     ]
    }
   ],
   "source": [
    "# One-hot encode the commodity column\n",
    "\n",
    "df = pd.get_dummies(df, columns=['commodity'])"
   ]
  },
  {
   "cell_type": "code",
   "execution_count": 54,
   "id": "976310e2",
   "metadata": {},
   "outputs": [
    {
     "data": {
      "text/html": [
       "<div>\n",
       "<style scoped>\n",
       "    .dataframe tbody tr th:only-of-type {\n",
       "        vertical-align: middle;\n",
       "    }\n",
       "\n",
       "    .dataframe tbody tr th {\n",
       "        vertical-align: top;\n",
       "    }\n",
       "\n",
       "    .dataframe thead th {\n",
       "        text-align: right;\n",
       "    }\n",
       "</style>\n",
       "<table border=\"1\" class=\"dataframe\">\n",
       "  <thead>\n",
       "    <tr style=\"text-align: right;\">\n",
       "      <th></th>\n",
       "      <th>date</th>\n",
       "      <th>price</th>\n",
       "      <th>commodity_#item+name</th>\n",
       "      <th>commodity_Bananas</th>\n",
       "      <th>commodity_Beans (niebe)</th>\n",
       "      <th>commodity_Beans (red)</th>\n",
       "      <th>commodity_Beans (white)</th>\n",
       "      <th>commodity_Bread</th>\n",
       "      <th>commodity_Cassava meal (gari, yellow)</th>\n",
       "      <th>commodity_Cowpeas</th>\n",
       "      <th>...</th>\n",
       "      <th>commodity_Sorghum</th>\n",
       "      <th>commodity_Sorghum (brown)</th>\n",
       "      <th>commodity_Sorghum (white)</th>\n",
       "      <th>commodity_Spinach</th>\n",
       "      <th>commodity_Sugar</th>\n",
       "      <th>commodity_Tomatoes</th>\n",
       "      <th>commodity_Watermelons</th>\n",
       "      <th>commodity_Wheat</th>\n",
       "      <th>commodity_Yam</th>\n",
       "      <th>commodity_Yam (Abuja)</th>\n",
       "    </tr>\n",
       "  </thead>\n",
       "  <tbody>\n",
       "    <tr>\n",
       "      <th>1</th>\n",
       "      <td>2002-01-15</td>\n",
       "      <td>175.92</td>\n",
       "      <td>False</td>\n",
       "      <td>False</td>\n",
       "      <td>False</td>\n",
       "      <td>False</td>\n",
       "      <td>False</td>\n",
       "      <td>False</td>\n",
       "      <td>False</td>\n",
       "      <td>False</td>\n",
       "      <td>...</td>\n",
       "      <td>False</td>\n",
       "      <td>False</td>\n",
       "      <td>False</td>\n",
       "      <td>False</td>\n",
       "      <td>False</td>\n",
       "      <td>False</td>\n",
       "      <td>False</td>\n",
       "      <td>False</td>\n",
       "      <td>False</td>\n",
       "      <td>False</td>\n",
       "    </tr>\n",
       "    <tr>\n",
       "      <th>2</th>\n",
       "      <td>2002-01-15</td>\n",
       "      <td>150.18</td>\n",
       "      <td>False</td>\n",
       "      <td>False</td>\n",
       "      <td>False</td>\n",
       "      <td>False</td>\n",
       "      <td>False</td>\n",
       "      <td>False</td>\n",
       "      <td>False</td>\n",
       "      <td>False</td>\n",
       "      <td>...</td>\n",
       "      <td>False</td>\n",
       "      <td>False</td>\n",
       "      <td>False</td>\n",
       "      <td>False</td>\n",
       "      <td>False</td>\n",
       "      <td>False</td>\n",
       "      <td>False</td>\n",
       "      <td>False</td>\n",
       "      <td>False</td>\n",
       "      <td>False</td>\n",
       "    </tr>\n",
       "    <tr>\n",
       "      <th>3</th>\n",
       "      <td>2002-01-15</td>\n",
       "      <td>358.70</td>\n",
       "      <td>False</td>\n",
       "      <td>False</td>\n",
       "      <td>False</td>\n",
       "      <td>False</td>\n",
       "      <td>False</td>\n",
       "      <td>False</td>\n",
       "      <td>False</td>\n",
       "      <td>False</td>\n",
       "      <td>...</td>\n",
       "      <td>False</td>\n",
       "      <td>False</td>\n",
       "      <td>False</td>\n",
       "      <td>False</td>\n",
       "      <td>False</td>\n",
       "      <td>False</td>\n",
       "      <td>False</td>\n",
       "      <td>False</td>\n",
       "      <td>False</td>\n",
       "      <td>False</td>\n",
       "    </tr>\n",
       "    <tr>\n",
       "      <th>4</th>\n",
       "      <td>2002-01-15</td>\n",
       "      <td>155.61</td>\n",
       "      <td>False</td>\n",
       "      <td>False</td>\n",
       "      <td>False</td>\n",
       "      <td>False</td>\n",
       "      <td>False</td>\n",
       "      <td>False</td>\n",
       "      <td>False</td>\n",
       "      <td>False</td>\n",
       "      <td>...</td>\n",
       "      <td>True</td>\n",
       "      <td>False</td>\n",
       "      <td>False</td>\n",
       "      <td>False</td>\n",
       "      <td>False</td>\n",
       "      <td>False</td>\n",
       "      <td>False</td>\n",
       "      <td>False</td>\n",
       "      <td>False</td>\n",
       "      <td>False</td>\n",
       "    </tr>\n",
       "    <tr>\n",
       "      <th>5</th>\n",
       "      <td>2002-01-15</td>\n",
       "      <td>196.87</td>\n",
       "      <td>False</td>\n",
       "      <td>False</td>\n",
       "      <td>True</td>\n",
       "      <td>False</td>\n",
       "      <td>False</td>\n",
       "      <td>False</td>\n",
       "      <td>False</td>\n",
       "      <td>False</td>\n",
       "      <td>...</td>\n",
       "      <td>False</td>\n",
       "      <td>False</td>\n",
       "      <td>False</td>\n",
       "      <td>False</td>\n",
       "      <td>False</td>\n",
       "      <td>False</td>\n",
       "      <td>False</td>\n",
       "      <td>False</td>\n",
       "      <td>False</td>\n",
       "      <td>False</td>\n",
       "    </tr>\n",
       "  </tbody>\n",
       "</table>\n",
       "<p>5 rows × 45 columns</p>\n",
       "</div>"
      ],
      "text/plain": [
       "        date   price  commodity_#item+name  commodity_Bananas  \\\n",
       "1 2002-01-15  175.92                 False              False   \n",
       "2 2002-01-15  150.18                 False              False   \n",
       "3 2002-01-15  358.70                 False              False   \n",
       "4 2002-01-15  155.61                 False              False   \n",
       "5 2002-01-15  196.87                 False              False   \n",
       "\n",
       "   commodity_Beans (niebe)  commodity_Beans (red)  commodity_Beans (white)  \\\n",
       "1                    False                  False                    False   \n",
       "2                    False                  False                    False   \n",
       "3                    False                  False                    False   \n",
       "4                    False                  False                    False   \n",
       "5                     True                  False                    False   \n",
       "\n",
       "   commodity_Bread  commodity_Cassava meal (gari, yellow)  commodity_Cowpeas  \\\n",
       "1            False                                  False              False   \n",
       "2            False                                  False              False   \n",
       "3            False                                  False              False   \n",
       "4            False                                  False              False   \n",
       "5            False                                  False              False   \n",
       "\n",
       "   ...  commodity_Sorghum  commodity_Sorghum (brown)  \\\n",
       "1  ...              False                      False   \n",
       "2  ...              False                      False   \n",
       "3  ...              False                      False   \n",
       "4  ...               True                      False   \n",
       "5  ...              False                      False   \n",
       "\n",
       "   commodity_Sorghum (white)  commodity_Spinach  commodity_Sugar  \\\n",
       "1                      False              False            False   \n",
       "2                      False              False            False   \n",
       "3                      False              False            False   \n",
       "4                      False              False            False   \n",
       "5                      False              False            False   \n",
       "\n",
       "   commodity_Tomatoes  commodity_Watermelons  commodity_Wheat  commodity_Yam  \\\n",
       "1               False                  False            False          False   \n",
       "2               False                  False            False          False   \n",
       "3               False                  False            False          False   \n",
       "4               False                  False            False          False   \n",
       "5               False                  False            False          False   \n",
       "\n",
       "   commodity_Yam (Abuja)  \n",
       "1                  False  \n",
       "2                  False  \n",
       "3                  False  \n",
       "4                  False  \n",
       "5                  False  \n",
       "\n",
       "[5 rows x 45 columns]"
      ]
     },
     "execution_count": 54,
     "metadata": {},
     "output_type": "execute_result"
    }
   ],
   "source": [
    "df.head()"
   ]
  },
  {
   "cell_type": "code",
   "execution_count": 55,
   "id": "6e0d925c",
   "metadata": {},
   "outputs": [
    {
     "name": "stdout",
     "output_type": "stream",
     "text": [
      "<class 'pandas.core.frame.DataFrame'>\n",
      "Index: 77914 entries, 1 to 80981\n",
      "Data columns (total 45 columns):\n",
      " #   Column                                 Non-Null Count  Dtype         \n",
      "---  ------                                 --------------  -----         \n",
      " 0   date                                   77914 non-null  datetime64[ns]\n",
      " 1   price                                  77914 non-null  float64       \n",
      " 2   commodity_#item+name                   77914 non-null  bool          \n",
      " 3   commodity_Bananas                      77914 non-null  bool          \n",
      " 4   commodity_Beans (niebe)                77914 non-null  bool          \n",
      " 5   commodity_Beans (red)                  77914 non-null  bool          \n",
      " 6   commodity_Beans (white)                77914 non-null  bool          \n",
      " 7   commodity_Bread                        77914 non-null  bool          \n",
      " 8   commodity_Cassava meal (gari, yellow)  77914 non-null  bool          \n",
      " 9   commodity_Cowpeas                      77914 non-null  bool          \n",
      " 10  commodity_Cowpeas (brown)              77914 non-null  bool          \n",
      " 11  commodity_Cowpeas (white)              77914 non-null  bool          \n",
      " 12  commodity_Eggs                         77914 non-null  bool          \n",
      " 13  commodity_Fish                         77914 non-null  bool          \n",
      " 14  commodity_Fuel (diesel)                77914 non-null  bool          \n",
      " 15  commodity_Fuel (petrol-gasoline)       77914 non-null  bool          \n",
      " 16  commodity_Gari (white)                 77914 non-null  bool          \n",
      " 17  commodity_Groundnuts                   77914 non-null  bool          \n",
      " 18  commodity_Groundnuts (shelled)         77914 non-null  bool          \n",
      " 19  commodity_Maize                        77914 non-null  bool          \n",
      " 20  commodity_Maize (white)                77914 non-null  bool          \n",
      " 21  commodity_Maize (yellow)               77914 non-null  bool          \n",
      " 22  commodity_Maize flour                  77914 non-null  bool          \n",
      " 23  commodity_Meat (beef)                  77914 non-null  bool          \n",
      " 24  commodity_Meat (goat)                  77914 non-null  bool          \n",
      " 25  commodity_Milk                         77914 non-null  bool          \n",
      " 26  commodity_Millet                       77914 non-null  bool          \n",
      " 27  commodity_Oil (palm)                   77914 non-null  bool          \n",
      " 28  commodity_Oil (vegetable)              77914 non-null  bool          \n",
      " 29  commodity_Onions                       77914 non-null  bool          \n",
      " 30  commodity_Oranges                      77914 non-null  bool          \n",
      " 31  commodity_Rice (imported)              77914 non-null  bool          \n",
      " 32  commodity_Rice (local)                 77914 non-null  bool          \n",
      " 33  commodity_Rice (milled, local)         77914 non-null  bool          \n",
      " 34  commodity_Salt                         77914 non-null  bool          \n",
      " 35  commodity_Sorghum                      77914 non-null  bool          \n",
      " 36  commodity_Sorghum (brown)              77914 non-null  bool          \n",
      " 37  commodity_Sorghum (white)              77914 non-null  bool          \n",
      " 38  commodity_Spinach                      77914 non-null  bool          \n",
      " 39  commodity_Sugar                        77914 non-null  bool          \n",
      " 40  commodity_Tomatoes                     77914 non-null  bool          \n",
      " 41  commodity_Watermelons                  77914 non-null  bool          \n",
      " 42  commodity_Wheat                        77914 non-null  bool          \n",
      " 43  commodity_Yam                          77914 non-null  bool          \n",
      " 44  commodity_Yam (Abuja)                  77914 non-null  bool          \n",
      "dtypes: bool(43), datetime64[ns](1), float64(1)\n",
      "memory usage: 5.0 MB\n"
     ]
    }
   ],
   "source": [
    "df.info()"
   ]
  },
  {
   "cell_type": "code",
   "execution_count": 24,
   "id": "b9bad984",
   "metadata": {},
   "outputs": [
    {
     "name": "stderr",
     "output_type": "stream",
     "text": [
      "C:\\Users\\HP\\AppData\\Local\\Temp\\ipykernel_772\\3244165804.py:3: UserWarning: Could not infer format, so each element will be parsed individually, falling back to `dateutil`. To ensure parsing is consistent and as-expected, please specify a format.\n",
      "  df['date'] = pd.to_datetime(df['date'], errors='coerce')  # Set errors='coerce' to handle any invalid dates\n"
     ]
    }
   ],
   "source": [
    "# Convert the date column to datetime\n",
    "\n",
    "df['date'] = pd.to_datetime(df['date'], errors='coerce')  # Set errors='coerce' to handle any invalid dates"
   ]
  },
  {
   "cell_type": "code",
   "execution_count": 56,
   "id": "0cf14550",
   "metadata": {},
   "outputs": [],
   "source": [
    "# Remove rows with missing or invalid dates\n",
    "\n",
    "df = df.dropna(subset=['date'])"
   ]
  },
  {
   "cell_type": "code",
   "execution_count": 57,
   "id": "de339923",
   "metadata": {},
   "outputs": [],
   "source": [
    "# Convert numerical columns to numeric types, handling errors\n",
    "\n",
    "for col in df.columns:\n",
    "    if col != 'date' and col != 'price':\n",
    "        df[col] = pd.to_numeric(df[col], errors='coerce')"
   ]
  },
  {
   "cell_type": "code",
   "execution_count": 58,
   "id": "87cfa27b",
   "metadata": {},
   "outputs": [],
   "source": [
    "# Remove rows with missing or invalid dates and numeric values\n",
    "\n",
    "df = df.dropna()"
   ]
  },
  {
   "cell_type": "code",
   "execution_count": 59,
   "id": "25831fab",
   "metadata": {},
   "outputs": [],
   "source": [
    "# Convert 'price' column to numeric type, coercing errors\n",
    "\n",
    "df['price'] = pd.to_numeric(df['price'], errors='coerce')"
   ]
  },
  {
   "cell_type": "code",
   "execution_count": 60,
   "id": "386c47fe",
   "metadata": {},
   "outputs": [],
   "source": [
    "# Split the data into features (X) and target variable (y)\n",
    "\n",
    "X = df.drop(columns=['date', 'price'])\n",
    "y = df['price']"
   ]
  },
  {
   "cell_type": "code",
   "execution_count": 61,
   "id": "36b5a09f",
   "metadata": {},
   "outputs": [],
   "source": [
    "# Split the data into training and testing sets\n",
    "\n",
    "X_train, X_test, y_train, y_test = train_test_split(X, y, test_size=0.2, random_state=42)"
   ]
  },
  {
   "cell_type": "code",
   "execution_count": 62,
   "id": "eee5efd6",
   "metadata": {},
   "outputs": [
    {
     "data": {
      "text/html": [
       "<style>#sk-container-id-5 {color: black;}#sk-container-id-5 pre{padding: 0;}#sk-container-id-5 div.sk-toggleable {background-color: white;}#sk-container-id-5 label.sk-toggleable__label {cursor: pointer;display: block;width: 100%;margin-bottom: 0;padding: 0.3em;box-sizing: border-box;text-align: center;}#sk-container-id-5 label.sk-toggleable__label-arrow:before {content: \"▸\";float: left;margin-right: 0.25em;color: #696969;}#sk-container-id-5 label.sk-toggleable__label-arrow:hover:before {color: black;}#sk-container-id-5 div.sk-estimator:hover label.sk-toggleable__label-arrow:before {color: black;}#sk-container-id-5 div.sk-toggleable__content {max-height: 0;max-width: 0;overflow: hidden;text-align: left;background-color: #f0f8ff;}#sk-container-id-5 div.sk-toggleable__content pre {margin: 0.2em;color: black;border-radius: 0.25em;background-color: #f0f8ff;}#sk-container-id-5 input.sk-toggleable__control:checked~div.sk-toggleable__content {max-height: 200px;max-width: 100%;overflow: auto;}#sk-container-id-5 input.sk-toggleable__control:checked~label.sk-toggleable__label-arrow:before {content: \"▾\";}#sk-container-id-5 div.sk-estimator input.sk-toggleable__control:checked~label.sk-toggleable__label {background-color: #d4ebff;}#sk-container-id-5 div.sk-label input.sk-toggleable__control:checked~label.sk-toggleable__label {background-color: #d4ebff;}#sk-container-id-5 input.sk-hidden--visually {border: 0;clip: rect(1px 1px 1px 1px);clip: rect(1px, 1px, 1px, 1px);height: 1px;margin: -1px;overflow: hidden;padding: 0;position: absolute;width: 1px;}#sk-container-id-5 div.sk-estimator {font-family: monospace;background-color: #f0f8ff;border: 1px dotted black;border-radius: 0.25em;box-sizing: border-box;margin-bottom: 0.5em;}#sk-container-id-5 div.sk-estimator:hover {background-color: #d4ebff;}#sk-container-id-5 div.sk-parallel-item::after {content: \"\";width: 100%;border-bottom: 1px solid gray;flex-grow: 1;}#sk-container-id-5 div.sk-label:hover label.sk-toggleable__label {background-color: #d4ebff;}#sk-container-id-5 div.sk-serial::before {content: \"\";position: absolute;border-left: 1px solid gray;box-sizing: border-box;top: 0;bottom: 0;left: 50%;z-index: 0;}#sk-container-id-5 div.sk-serial {display: flex;flex-direction: column;align-items: center;background-color: white;padding-right: 0.2em;padding-left: 0.2em;position: relative;}#sk-container-id-5 div.sk-item {position: relative;z-index: 1;}#sk-container-id-5 div.sk-parallel {display: flex;align-items: stretch;justify-content: center;background-color: white;position: relative;}#sk-container-id-5 div.sk-item::before, #sk-container-id-5 div.sk-parallel-item::before {content: \"\";position: absolute;border-left: 1px solid gray;box-sizing: border-box;top: 0;bottom: 0;left: 50%;z-index: -1;}#sk-container-id-5 div.sk-parallel-item {display: flex;flex-direction: column;z-index: 1;position: relative;background-color: white;}#sk-container-id-5 div.sk-parallel-item:first-child::after {align-self: flex-end;width: 50%;}#sk-container-id-5 div.sk-parallel-item:last-child::after {align-self: flex-start;width: 50%;}#sk-container-id-5 div.sk-parallel-item:only-child::after {width: 0;}#sk-container-id-5 div.sk-dashed-wrapped {border: 1px dashed gray;margin: 0 0.4em 0.5em 0.4em;box-sizing: border-box;padding-bottom: 0.4em;background-color: white;}#sk-container-id-5 div.sk-label label {font-family: monospace;font-weight: bold;display: inline-block;line-height: 1.2em;}#sk-container-id-5 div.sk-label-container {text-align: center;}#sk-container-id-5 div.sk-container {/* jupyter's `normalize.less` sets `[hidden] { display: none; }` but bootstrap.min.css set `[hidden] { display: none !important; }` so we also need the `!important` here to be able to override the default hidden behavior on the sphinx rendered scikit-learn.org. See: https://github.com/scikit-learn/scikit-learn/issues/21755 */display: inline-block !important;position: relative;}#sk-container-id-5 div.sk-text-repr-fallback {display: none;}</style><div id=\"sk-container-id-5\" class=\"sk-top-container\"><div class=\"sk-text-repr-fallback\"><pre>RandomForestRegressor(random_state=42)</pre><b>In a Jupyter environment, please rerun this cell to show the HTML representation or trust the notebook. <br />On GitHub, the HTML representation is unable to render, please try loading this page with nbviewer.org.</b></div><div class=\"sk-container\" hidden><div class=\"sk-item\"><div class=\"sk-estimator sk-toggleable\"><input class=\"sk-toggleable__control sk-hidden--visually\" id=\"sk-estimator-id-5\" type=\"checkbox\" checked><label for=\"sk-estimator-id-5\" class=\"sk-toggleable__label sk-toggleable__label-arrow\">RandomForestRegressor</label><div class=\"sk-toggleable__content\"><pre>RandomForestRegressor(random_state=42)</pre></div></div></div></div></div>"
      ],
      "text/plain": [
       "RandomForestRegressor(random_state=42)"
      ]
     },
     "execution_count": 62,
     "metadata": {},
     "output_type": "execute_result"
    }
   ],
   "source": [
    "model = RandomForestRegressor(n_estimators=100, random_state=42)\n",
    "model.fit(X_train, y_train)"
   ]
  },
  {
   "cell_type": "code",
   "execution_count": 32,
   "id": "b5c97b51",
   "metadata": {},
   "outputs": [
    {
     "name": "stdout",
     "output_type": "stream",
     "text": [
      "Mean Squared Error: 86053060.13315032\n",
      "Mean Absolute Error: 5049.8993117200225\n"
     ]
    }
   ],
   "source": [
    "# Model Evaluation\n",
    "\n",
    "\n",
    "predictions = model.predict(X_test)\n",
    "mse = mean_squared_error(y_test, predictions)\n",
    "mae = mean_absolute_error(y_test, predictions)\n",
    "print(\"Mean Squared Error:\", mse)\n",
    "print(\"Mean Absolute Error:\", mae)"
   ]
  },
  {
   "cell_type": "markdown",
   "id": "04a02055",
   "metadata": {},
   "source": [
    "* The MSE represents the average squared difference between the predicted prices and the actual prices. A lower MSE indicates better performance.\n",
    "\n",
    "*  The MAE represents the average absolute difference between the predicted prices and the actual prices. Similarly, a lower MAE indicates better performance."
   ]
  },
  {
   "cell_type": "code",
   "execution_count": 33,
   "id": "7191cf15",
   "metadata": {},
   "outputs": [
    {
     "data": {
      "text/html": [
       "<style>#sk-container-id-2 {color: black;}#sk-container-id-2 pre{padding: 0;}#sk-container-id-2 div.sk-toggleable {background-color: white;}#sk-container-id-2 label.sk-toggleable__label {cursor: pointer;display: block;width: 100%;margin-bottom: 0;padding: 0.3em;box-sizing: border-box;text-align: center;}#sk-container-id-2 label.sk-toggleable__label-arrow:before {content: \"▸\";float: left;margin-right: 0.25em;color: #696969;}#sk-container-id-2 label.sk-toggleable__label-arrow:hover:before {color: black;}#sk-container-id-2 div.sk-estimator:hover label.sk-toggleable__label-arrow:before {color: black;}#sk-container-id-2 div.sk-toggleable__content {max-height: 0;max-width: 0;overflow: hidden;text-align: left;background-color: #f0f8ff;}#sk-container-id-2 div.sk-toggleable__content pre {margin: 0.2em;color: black;border-radius: 0.25em;background-color: #f0f8ff;}#sk-container-id-2 input.sk-toggleable__control:checked~div.sk-toggleable__content {max-height: 200px;max-width: 100%;overflow: auto;}#sk-container-id-2 input.sk-toggleable__control:checked~label.sk-toggleable__label-arrow:before {content: \"▾\";}#sk-container-id-2 div.sk-estimator input.sk-toggleable__control:checked~label.sk-toggleable__label {background-color: #d4ebff;}#sk-container-id-2 div.sk-label input.sk-toggleable__control:checked~label.sk-toggleable__label {background-color: #d4ebff;}#sk-container-id-2 input.sk-hidden--visually {border: 0;clip: rect(1px 1px 1px 1px);clip: rect(1px, 1px, 1px, 1px);height: 1px;margin: -1px;overflow: hidden;padding: 0;position: absolute;width: 1px;}#sk-container-id-2 div.sk-estimator {font-family: monospace;background-color: #f0f8ff;border: 1px dotted black;border-radius: 0.25em;box-sizing: border-box;margin-bottom: 0.5em;}#sk-container-id-2 div.sk-estimator:hover {background-color: #d4ebff;}#sk-container-id-2 div.sk-parallel-item::after {content: \"\";width: 100%;border-bottom: 1px solid gray;flex-grow: 1;}#sk-container-id-2 div.sk-label:hover label.sk-toggleable__label {background-color: #d4ebff;}#sk-container-id-2 div.sk-serial::before {content: \"\";position: absolute;border-left: 1px solid gray;box-sizing: border-box;top: 0;bottom: 0;left: 50%;z-index: 0;}#sk-container-id-2 div.sk-serial {display: flex;flex-direction: column;align-items: center;background-color: white;padding-right: 0.2em;padding-left: 0.2em;position: relative;}#sk-container-id-2 div.sk-item {position: relative;z-index: 1;}#sk-container-id-2 div.sk-parallel {display: flex;align-items: stretch;justify-content: center;background-color: white;position: relative;}#sk-container-id-2 div.sk-item::before, #sk-container-id-2 div.sk-parallel-item::before {content: \"\";position: absolute;border-left: 1px solid gray;box-sizing: border-box;top: 0;bottom: 0;left: 50%;z-index: -1;}#sk-container-id-2 div.sk-parallel-item {display: flex;flex-direction: column;z-index: 1;position: relative;background-color: white;}#sk-container-id-2 div.sk-parallel-item:first-child::after {align-self: flex-end;width: 50%;}#sk-container-id-2 div.sk-parallel-item:last-child::after {align-self: flex-start;width: 50%;}#sk-container-id-2 div.sk-parallel-item:only-child::after {width: 0;}#sk-container-id-2 div.sk-dashed-wrapped {border: 1px dashed gray;margin: 0 0.4em 0.5em 0.4em;box-sizing: border-box;padding-bottom: 0.4em;background-color: white;}#sk-container-id-2 div.sk-label label {font-family: monospace;font-weight: bold;display: inline-block;line-height: 1.2em;}#sk-container-id-2 div.sk-label-container {text-align: center;}#sk-container-id-2 div.sk-container {/* jupyter's `normalize.less` sets `[hidden] { display: none; }` but bootstrap.min.css set `[hidden] { display: none !important; }` so we also need the `!important` here to be able to override the default hidden behavior on the sphinx rendered scikit-learn.org. See: https://github.com/scikit-learn/scikit-learn/issues/21755 */display: inline-block !important;position: relative;}#sk-container-id-2 div.sk-text-repr-fallback {display: none;}</style><div id=\"sk-container-id-2\" class=\"sk-top-container\"><div class=\"sk-text-repr-fallback\"><pre>LinearRegression()</pre><b>In a Jupyter environment, please rerun this cell to show the HTML representation or trust the notebook. <br />On GitHub, the HTML representation is unable to render, please try loading this page with nbviewer.org.</b></div><div class=\"sk-container\" hidden><div class=\"sk-item\"><div class=\"sk-estimator sk-toggleable\"><input class=\"sk-toggleable__control sk-hidden--visually\" id=\"sk-estimator-id-2\" type=\"checkbox\" checked><label for=\"sk-estimator-id-2\" class=\"sk-toggleable__label sk-toggleable__label-arrow\">LinearRegression</label><div class=\"sk-toggleable__content\"><pre>LinearRegression()</pre></div></div></div></div></div>"
      ],
      "text/plain": [
       "LinearRegression()"
      ]
     },
     "execution_count": 33,
     "metadata": {},
     "output_type": "execute_result"
    }
   ],
   "source": [
    "from sklearn.linear_model import LinearRegression\n",
    "\n",
    "# Initialize the Linear Regression model\n",
    "\n",
    "model = LinearRegression()\n",
    "\n",
    "# Fit the model to the training data\n",
    "\n",
    "model.fit(X_train, y_train)"
   ]
  },
  {
   "cell_type": "code",
   "execution_count": 34,
   "id": "b32e192e",
   "metadata": {},
   "outputs": [
    {
     "name": "stdout",
     "output_type": "stream",
     "text": [
      "Mean Squared Error: 86049972.62363596\n",
      "Mean Absolute Error: 5051.461366432973\n"
     ]
    }
   ],
   "source": [
    "predictions = model.predict(X_test)\n",
    "mse = mean_squared_error(y_test, predictions)\n",
    "mae = mean_absolute_error(y_test, predictions)\n",
    "print(\"Mean Squared Error:\", mse)\n",
    "print(\"Mean Absolute Error:\", mae)"
   ]
  },
  {
   "cell_type": "code",
   "execution_count": 35,
   "id": "b63f6f52",
   "metadata": {},
   "outputs": [
    {
     "data": {
      "text/html": [
       "<style>#sk-container-id-3 {color: black;}#sk-container-id-3 pre{padding: 0;}#sk-container-id-3 div.sk-toggleable {background-color: white;}#sk-container-id-3 label.sk-toggleable__label {cursor: pointer;display: block;width: 100%;margin-bottom: 0;padding: 0.3em;box-sizing: border-box;text-align: center;}#sk-container-id-3 label.sk-toggleable__label-arrow:before {content: \"▸\";float: left;margin-right: 0.25em;color: #696969;}#sk-container-id-3 label.sk-toggleable__label-arrow:hover:before {color: black;}#sk-container-id-3 div.sk-estimator:hover label.sk-toggleable__label-arrow:before {color: black;}#sk-container-id-3 div.sk-toggleable__content {max-height: 0;max-width: 0;overflow: hidden;text-align: left;background-color: #f0f8ff;}#sk-container-id-3 div.sk-toggleable__content pre {margin: 0.2em;color: black;border-radius: 0.25em;background-color: #f0f8ff;}#sk-container-id-3 input.sk-toggleable__control:checked~div.sk-toggleable__content {max-height: 200px;max-width: 100%;overflow: auto;}#sk-container-id-3 input.sk-toggleable__control:checked~label.sk-toggleable__label-arrow:before {content: \"▾\";}#sk-container-id-3 div.sk-estimator input.sk-toggleable__control:checked~label.sk-toggleable__label {background-color: #d4ebff;}#sk-container-id-3 div.sk-label input.sk-toggleable__control:checked~label.sk-toggleable__label {background-color: #d4ebff;}#sk-container-id-3 input.sk-hidden--visually {border: 0;clip: rect(1px 1px 1px 1px);clip: rect(1px, 1px, 1px, 1px);height: 1px;margin: -1px;overflow: hidden;padding: 0;position: absolute;width: 1px;}#sk-container-id-3 div.sk-estimator {font-family: monospace;background-color: #f0f8ff;border: 1px dotted black;border-radius: 0.25em;box-sizing: border-box;margin-bottom: 0.5em;}#sk-container-id-3 div.sk-estimator:hover {background-color: #d4ebff;}#sk-container-id-3 div.sk-parallel-item::after {content: \"\";width: 100%;border-bottom: 1px solid gray;flex-grow: 1;}#sk-container-id-3 div.sk-label:hover label.sk-toggleable__label {background-color: #d4ebff;}#sk-container-id-3 div.sk-serial::before {content: \"\";position: absolute;border-left: 1px solid gray;box-sizing: border-box;top: 0;bottom: 0;left: 50%;z-index: 0;}#sk-container-id-3 div.sk-serial {display: flex;flex-direction: column;align-items: center;background-color: white;padding-right: 0.2em;padding-left: 0.2em;position: relative;}#sk-container-id-3 div.sk-item {position: relative;z-index: 1;}#sk-container-id-3 div.sk-parallel {display: flex;align-items: stretch;justify-content: center;background-color: white;position: relative;}#sk-container-id-3 div.sk-item::before, #sk-container-id-3 div.sk-parallel-item::before {content: \"\";position: absolute;border-left: 1px solid gray;box-sizing: border-box;top: 0;bottom: 0;left: 50%;z-index: -1;}#sk-container-id-3 div.sk-parallel-item {display: flex;flex-direction: column;z-index: 1;position: relative;background-color: white;}#sk-container-id-3 div.sk-parallel-item:first-child::after {align-self: flex-end;width: 50%;}#sk-container-id-3 div.sk-parallel-item:last-child::after {align-self: flex-start;width: 50%;}#sk-container-id-3 div.sk-parallel-item:only-child::after {width: 0;}#sk-container-id-3 div.sk-dashed-wrapped {border: 1px dashed gray;margin: 0 0.4em 0.5em 0.4em;box-sizing: border-box;padding-bottom: 0.4em;background-color: white;}#sk-container-id-3 div.sk-label label {font-family: monospace;font-weight: bold;display: inline-block;line-height: 1.2em;}#sk-container-id-3 div.sk-label-container {text-align: center;}#sk-container-id-3 div.sk-container {/* jupyter's `normalize.less` sets `[hidden] { display: none; }` but bootstrap.min.css set `[hidden] { display: none !important; }` so we also need the `!important` here to be able to override the default hidden behavior on the sphinx rendered scikit-learn.org. See: https://github.com/scikit-learn/scikit-learn/issues/21755 */display: inline-block !important;position: relative;}#sk-container-id-3 div.sk-text-repr-fallback {display: none;}</style><div id=\"sk-container-id-3\" class=\"sk-top-container\"><div class=\"sk-text-repr-fallback\"><pre>GradientBoostingRegressor(random_state=42)</pre><b>In a Jupyter environment, please rerun this cell to show the HTML representation or trust the notebook. <br />On GitHub, the HTML representation is unable to render, please try loading this page with nbviewer.org.</b></div><div class=\"sk-container\" hidden><div class=\"sk-item\"><div class=\"sk-estimator sk-toggleable\"><input class=\"sk-toggleable__control sk-hidden--visually\" id=\"sk-estimator-id-3\" type=\"checkbox\" checked><label for=\"sk-estimator-id-3\" class=\"sk-toggleable__label sk-toggleable__label-arrow\">GradientBoostingRegressor</label><div class=\"sk-toggleable__content\"><pre>GradientBoostingRegressor(random_state=42)</pre></div></div></div></div></div>"
      ],
      "text/plain": [
       "GradientBoostingRegressor(random_state=42)"
      ]
     },
     "execution_count": 35,
     "metadata": {},
     "output_type": "execute_result"
    }
   ],
   "source": [
    "from sklearn.ensemble import GradientBoostingRegressor\n",
    "\n",
    "# Initialize the Gradient Boosting Regressor model\n",
    "\n",
    "model = GradientBoostingRegressor(n_estimators=100, random_state=42)\n",
    "\n",
    "# Fit the model to the training data\n",
    "\n",
    "model.fit(X_train, y_train)"
   ]
  },
  {
   "cell_type": "code",
   "execution_count": 36,
   "id": "9dae5b93",
   "metadata": {},
   "outputs": [
    {
     "name": "stdout",
     "output_type": "stream",
     "text": [
      "Mean Squared Error: 87833511.72518577\n",
      "Mean Absolute Error: 5468.98937002545\n"
     ]
    }
   ],
   "source": [
    "predictions = model.predict(X_test)\n",
    "mse = mean_squared_error(y_test, predictions)\n",
    "mae = mean_absolute_error(y_test, predictions)\n",
    "print(\"Mean Squared Error:\", mse)\n",
    "print(\"Mean Absolute Error:\", mae)"
   ]
  },
  {
   "cell_type": "code",
   "execution_count": 37,
   "id": "9e2f8bf4",
   "metadata": {},
   "outputs": [
    {
     "data": {
      "text/html": [
       "<style>#sk-container-id-4 {color: black;}#sk-container-id-4 pre{padding: 0;}#sk-container-id-4 div.sk-toggleable {background-color: white;}#sk-container-id-4 label.sk-toggleable__label {cursor: pointer;display: block;width: 100%;margin-bottom: 0;padding: 0.3em;box-sizing: border-box;text-align: center;}#sk-container-id-4 label.sk-toggleable__label-arrow:before {content: \"▸\";float: left;margin-right: 0.25em;color: #696969;}#sk-container-id-4 label.sk-toggleable__label-arrow:hover:before {color: black;}#sk-container-id-4 div.sk-estimator:hover label.sk-toggleable__label-arrow:before {color: black;}#sk-container-id-4 div.sk-toggleable__content {max-height: 0;max-width: 0;overflow: hidden;text-align: left;background-color: #f0f8ff;}#sk-container-id-4 div.sk-toggleable__content pre {margin: 0.2em;color: black;border-radius: 0.25em;background-color: #f0f8ff;}#sk-container-id-4 input.sk-toggleable__control:checked~div.sk-toggleable__content {max-height: 200px;max-width: 100%;overflow: auto;}#sk-container-id-4 input.sk-toggleable__control:checked~label.sk-toggleable__label-arrow:before {content: \"▾\";}#sk-container-id-4 div.sk-estimator input.sk-toggleable__control:checked~label.sk-toggleable__label {background-color: #d4ebff;}#sk-container-id-4 div.sk-label input.sk-toggleable__control:checked~label.sk-toggleable__label {background-color: #d4ebff;}#sk-container-id-4 input.sk-hidden--visually {border: 0;clip: rect(1px 1px 1px 1px);clip: rect(1px, 1px, 1px, 1px);height: 1px;margin: -1px;overflow: hidden;padding: 0;position: absolute;width: 1px;}#sk-container-id-4 div.sk-estimator {font-family: monospace;background-color: #f0f8ff;border: 1px dotted black;border-radius: 0.25em;box-sizing: border-box;margin-bottom: 0.5em;}#sk-container-id-4 div.sk-estimator:hover {background-color: #d4ebff;}#sk-container-id-4 div.sk-parallel-item::after {content: \"\";width: 100%;border-bottom: 1px solid gray;flex-grow: 1;}#sk-container-id-4 div.sk-label:hover label.sk-toggleable__label {background-color: #d4ebff;}#sk-container-id-4 div.sk-serial::before {content: \"\";position: absolute;border-left: 1px solid gray;box-sizing: border-box;top: 0;bottom: 0;left: 50%;z-index: 0;}#sk-container-id-4 div.sk-serial {display: flex;flex-direction: column;align-items: center;background-color: white;padding-right: 0.2em;padding-left: 0.2em;position: relative;}#sk-container-id-4 div.sk-item {position: relative;z-index: 1;}#sk-container-id-4 div.sk-parallel {display: flex;align-items: stretch;justify-content: center;background-color: white;position: relative;}#sk-container-id-4 div.sk-item::before, #sk-container-id-4 div.sk-parallel-item::before {content: \"\";position: absolute;border-left: 1px solid gray;box-sizing: border-box;top: 0;bottom: 0;left: 50%;z-index: -1;}#sk-container-id-4 div.sk-parallel-item {display: flex;flex-direction: column;z-index: 1;position: relative;background-color: white;}#sk-container-id-4 div.sk-parallel-item:first-child::after {align-self: flex-end;width: 50%;}#sk-container-id-4 div.sk-parallel-item:last-child::after {align-self: flex-start;width: 50%;}#sk-container-id-4 div.sk-parallel-item:only-child::after {width: 0;}#sk-container-id-4 div.sk-dashed-wrapped {border: 1px dashed gray;margin: 0 0.4em 0.5em 0.4em;box-sizing: border-box;padding-bottom: 0.4em;background-color: white;}#sk-container-id-4 div.sk-label label {font-family: monospace;font-weight: bold;display: inline-block;line-height: 1.2em;}#sk-container-id-4 div.sk-label-container {text-align: center;}#sk-container-id-4 div.sk-container {/* jupyter's `normalize.less` sets `[hidden] { display: none; }` but bootstrap.min.css set `[hidden] { display: none !important; }` so we also need the `!important` here to be able to override the default hidden behavior on the sphinx rendered scikit-learn.org. See: https://github.com/scikit-learn/scikit-learn/issues/21755 */display: inline-block !important;position: relative;}#sk-container-id-4 div.sk-text-repr-fallback {display: none;}</style><div id=\"sk-container-id-4\" class=\"sk-top-container\"><div class=\"sk-text-repr-fallback\"><pre>DecisionTreeRegressor(random_state=42)</pre><b>In a Jupyter environment, please rerun this cell to show the HTML representation or trust the notebook. <br />On GitHub, the HTML representation is unable to render, please try loading this page with nbviewer.org.</b></div><div class=\"sk-container\" hidden><div class=\"sk-item\"><div class=\"sk-estimator sk-toggleable\"><input class=\"sk-toggleable__control sk-hidden--visually\" id=\"sk-estimator-id-4\" type=\"checkbox\" checked><label for=\"sk-estimator-id-4\" class=\"sk-toggleable__label sk-toggleable__label-arrow\">DecisionTreeRegressor</label><div class=\"sk-toggleable__content\"><pre>DecisionTreeRegressor(random_state=42)</pre></div></div></div></div></div>"
      ],
      "text/plain": [
       "DecisionTreeRegressor(random_state=42)"
      ]
     },
     "execution_count": 37,
     "metadata": {},
     "output_type": "execute_result"
    }
   ],
   "source": [
    "from sklearn.tree import DecisionTreeRegressor\n",
    "\n",
    "# Initialize the Decision Tree Regressor model\n",
    "\n",
    "model = DecisionTreeRegressor(random_state=42)\n",
    "\n",
    "# Fit the model to the training data\n",
    "\n",
    "model.fit(X_train, y_train)"
   ]
  },
  {
   "cell_type": "code",
   "execution_count": 38,
   "id": "c2c84737",
   "metadata": {},
   "outputs": [
    {
     "name": "stdout",
     "output_type": "stream",
     "text": [
      "Mean Squared Error: 86050108.71921735\n",
      "Mean Absolute Error: 5051.318847533418\n"
     ]
    }
   ],
   "source": [
    "predictions = model.predict(X_test)\n",
    "mse = mean_squared_error(y_test, predictions)\n",
    "mae = mean_absolute_error(y_test, predictions)\n",
    "print(\"Mean Squared Error:\", mse)\n",
    "print(\"Mean Absolute Error:\", mae)"
   ]
  },
  {
   "cell_type": "code",
   "execution_count": 39,
   "id": "c7c5965e",
   "metadata": {},
   "outputs": [],
   "source": [
    "# Define the dictionary to store models\n",
    "\n",
    "models = {\n",
    "    \"Linear Regression\": LinearRegression(),\n",
    "    \"Gradient Boosting Regression\": GradientBoostingRegressor(n_estimators=100, random_state=42),\n",
    "    \"Random Forest Regression\": RandomForestRegressor(n_estimators=100, random_state=42),\n",
    "    \"Decision Tree Regression\": DecisionTreeRegressor(random_state=42)\n",
    "}"
   ]
  },
  {
   "cell_type": "code",
   "execution_count": 40,
   "id": "672fcbb6",
   "metadata": {},
   "outputs": [
    {
     "name": "stdout",
     "output_type": "stream",
     "text": [
      "Training Linear Regression\n",
      "Training Gradient Boosting Regression\n",
      "Training Random Forest Regression\n",
      "Training Decision Tree Regression\n"
     ]
    }
   ],
   "source": [
    "# Train and evaluate models\n",
    "\n",
    "performance = {}\n",
    "\n",
    "for model_name, model in models.items():\n",
    "    print(\"Training\", model_name)\n",
    "    model.fit(X_train, y_train)"
   ]
  },
  {
   "cell_type": "code",
   "execution_count": 41,
   "id": "2a8b07fa",
   "metadata": {},
   "outputs": [
    {
     "name": "stdout",
     "output_type": "stream",
     "text": [
      "Decision Tree Regression - Mean Squared Error: 86050108.71921735\n",
      "Decision Tree Regression - Mean Absolute Error: 5051.318847533418\n",
      "-------------------------------------\n"
     ]
    }
   ],
   "source": [
    "# Model Evaluation\n",
    "\n",
    "predictions = model.predict(X_test)\n",
    "mse = mean_squared_error(y_test, predictions)\n",
    "mae = mean_absolute_error(y_test, predictions)\n",
    "print(model_name + \" - Mean Squared Error:\", mse)\n",
    "print(model_name + \" - Mean Absolute Error:\", mae)\n",
    "print(\"-------------------------------------\")"
   ]
  },
  {
   "cell_type": "code",
   "execution_count": 42,
   "id": "ec820e42",
   "metadata": {},
   "outputs": [],
   "source": [
    "# Store performance metrics in the dictionary\n",
    "\n",
    "performance[model_name] = {\"MSE\": mse, \"MAE\": mae}"
   ]
  },
  {
   "cell_type": "code",
   "execution_count": 43,
   "id": "feb18f38",
   "metadata": {},
   "outputs": [
    {
     "name": "stdout",
     "output_type": "stream",
     "text": [
      "Best Performing Model: Decision Tree Regression\n"
     ]
    }
   ],
   "source": [
    "# Identify the best performing model based on MSE or MAE\n",
    "\n",
    "best_model = min(performance, key=lambda x: performance[x][\"MSE\"])  # or \"MAE\"\n",
    "print(\"Best Performing Model:\", best_model)"
   ]
  },
  {
   "cell_type": "code",
   "execution_count": 44,
   "id": "94fc0bcf",
   "metadata": {},
   "outputs": [
    {
     "data": {
      "text/plain": [
       "['best_model.joblib']"
      ]
     },
     "execution_count": 44,
     "metadata": {},
     "output_type": "execute_result"
    }
   ],
   "source": [
    "import joblib\n",
    "\n",
    "# Assuming best_model contains the name of the best performing model\n",
    "best_model = models[best_model]\n",
    "\n",
    "# Save the best performing model to a file\n",
    "joblib.dump(best_model, 'best_model.joblib')"
   ]
  },
  {
   "cell_type": "code",
   "execution_count": null,
   "id": "c83d0b81",
   "metadata": {},
   "outputs": [],
   "source": []
  }
 ],
 "metadata": {
  "kernelspec": {
   "display_name": "Python 3 (ipykernel)",
   "language": "python",
   "name": "python3"
  },
  "language_info": {
   "codemirror_mode": {
    "name": "ipython",
    "version": 3
   },
   "file_extension": ".py",
   "mimetype": "text/x-python",
   "name": "python",
   "nbconvert_exporter": "python",
   "pygments_lexer": "ipython3",
   "version": "3.11.5"
  }
 },
 "nbformat": 4,
 "nbformat_minor": 5
}
